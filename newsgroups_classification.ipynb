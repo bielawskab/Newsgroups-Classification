{
  "cells": [
    {
      "cell_type": "markdown",
      "metadata": {
        "id": "6C-K7tLr48G6"
      },
      "source": [
        "## *NEWSGROUPS CLASSIFICATION PROJECT*"
      ]
    },
    {
      "cell_type": "code",
      "execution_count": null,
      "metadata": {
        "id": "Q72J_NPIMgwF"
      },
      "outputs": [],
      "source": [
        "from sklearn.naive_bayes import MultinomialNB\n",
        "from sklearn.naive_bayes import BernoulliNB\n",
        "from sklearn.pipeline import Pipeline\n",
        "from sklearn.feature_extraction.text import TfidfVectorizer\n",
        "from sklearn.feature_extraction.text import TfidfTransformer\n",
        "from sklearn.linear_model import SGDClassifier\n",
        "from sklearn.linear_model import LogisticRegression\n",
        "from nltk.stem.snowball import SnowballStemmer\n",
        "from sklearn.neighbors import KNeighborsClassifier\n",
        "from sklearn.ensemble import RandomForestClassifier\n",
        "from sklearn.feature_extraction.text import CountVectorizer\n",
        "from keras.models import Sequential\n",
        "from keras.utils import to_categorical\n",
        "from keras.callbacks import EarlyStopping, ModelCheckpoint\n",
        "from sklearn.model_selection import train_test_split\n",
        "from keras.layers import Dense, Activation, Flatten, BatchNormalization, Conv2D, MaxPooling2D\n",
        "from keras.callbacks import EarlyStopping, ModelCheckpoint\n",
        "import numpy as np\n",
        "import re\n",
        "import string\n",
        "\n",
        "import matplotlib.pyplot as plt\n",
        "%matplotlib inline\n",
        "\n",
        "import nltk\n",
        "import pandas as pd\n",
        "import random"
      ]
    },
    {
      "cell_type": "code",
      "execution_count": null,
      "metadata": {
        "id": "yNEHVxL7h-jf"
      },
      "outputs": [],
      "source": [
        "# Loading data\n",
        "from sklearn.datasets import fetch_20newsgroups\n",
        "\n",
        "mydata = fetch_20newsgroups(subset='all', shuffle=True, remove = ('headers', 'footers', 'quotes'))"
      ]
    },
    {
      "cell_type": "markdown",
      "source": [
        "#Data Analysis"
      ],
      "metadata": {
        "id": "pcrNths8qt8w"
      }
    },
    {
      "cell_type": "code",
      "execution_count": null,
      "metadata": {
        "colab": {
          "base_uri": "https://localhost:8080/"
        },
        "id": "KohPWxgjiAaE",
        "outputId": "08cbe08e-89bb-42d7-a5d4-f06406cda749"
      },
      "outputs": [
        {
          "output_type": "execute_result",
          "data": {
            "text/plain": [
              "['data', 'filenames', 'target_names', 'target', 'DESCR']"
            ]
          },
          "metadata": {},
          "execution_count": 59
        }
      ],
      "source": [
        "list(mydata)"
      ]
    },
    {
      "cell_type": "code",
      "execution_count": null,
      "metadata": {
        "colab": {
          "base_uri": "https://localhost:8080/"
        },
        "id": "REl9qRvUiEaf",
        "outputId": "720ef5c9-8596-4425-926e-dcdcc93c8a31"
      },
      "outputs": [
        {
          "output_type": "stream",
          "name": "stdout",
          "text": [
            "Data size: 18846\n"
          ]
        }
      ],
      "source": [
        "print('Data size:', len(mydata['data']))"
      ]
    },
    {
      "cell_type": "code",
      "execution_count": null,
      "metadata": {
        "colab": {
          "base_uri": "https://localhost:8080/"
        },
        "id": "l_-8ycRAiG0R",
        "outputId": "eec47e58-85d9-4d5c-fdbe-f2d350d67cb6"
      },
      "outputs": [
        {
          "output_type": "execute_result",
          "data": {
            "text/plain": [
              "['alt.atheism',\n",
              " 'comp.graphics',\n",
              " 'comp.os.ms-windows.misc',\n",
              " 'comp.sys.ibm.pc.hardware',\n",
              " 'comp.sys.mac.hardware',\n",
              " 'comp.windows.x',\n",
              " 'misc.forsale',\n",
              " 'rec.autos',\n",
              " 'rec.motorcycles',\n",
              " 'rec.sport.baseball',\n",
              " 'rec.sport.hockey',\n",
              " 'sci.crypt',\n",
              " 'sci.electronics',\n",
              " 'sci.med',\n",
              " 'sci.space',\n",
              " 'soc.religion.christian',\n",
              " 'talk.politics.guns',\n",
              " 'talk.politics.mideast',\n",
              " 'talk.politics.misc',\n",
              " 'talk.religion.misc']"
            ]
          },
          "metadata": {},
          "execution_count": 61
        }
      ],
      "source": [
        "# List all categories\n",
        "mydata['target_names']"
      ]
    },
    {
      "cell_type": "code",
      "execution_count": null,
      "metadata": {
        "colab": {
          "base_uri": "https://localhost:8080/"
        },
        "id": "ELMiZTGOiJ_y",
        "outputId": "d94afcd7-c9e2-44b5-8f4b-7c5bc0ce1998"
      },
      "outputs": [
        {
          "output_type": "execute_result",
          "data": {
            "text/plain": [
              "(array([ 0,  1,  2,  3,  4,  5,  6,  7,  8,  9, 10, 11, 12, 13, 14, 15, 16,\n",
              "        17, 18, 19]),\n",
              " array([799, 973, 985, 982, 963, 988, 975, 990, 996, 994, 999, 991, 984,\n",
              "        990, 987, 997, 910, 940, 775, 628]))"
            ]
          },
          "metadata": {},
          "execution_count": 62
        }
      ],
      "source": [
        "# Number of occurrences of each category\n",
        "targets, frequency = np.unique(mydata['target'], return_counts=True)\n",
        "targets, frequency"
      ]
    },
    {
      "cell_type": "code",
      "execution_count": null,
      "metadata": {
        "colab": {
          "base_uri": "https://localhost:8080/"
        },
        "id": "-XhMpTr-iaCM",
        "outputId": "e3c6c03d-c003-40e2-b5ee-30aed8bcbb45"
      },
      "outputs": [
        {
          "output_type": "stream",
          "name": "stdout",
          "text": [
            "[('alt.atheism', 799), ('comp.graphics', 973), ('comp.os.ms-windows.misc', 985), ('comp.sys.ibm.pc.hardware', 982), ('comp.sys.mac.hardware', 963), ('comp.windows.x', 988), ('misc.forsale', 975), ('rec.autos', 990), ('rec.motorcycles', 996), ('rec.sport.baseball', 994), ('rec.sport.hockey', 999), ('sci.crypt', 991), ('sci.electronics', 984), ('sci.med', 990), ('sci.space', 987), ('soc.religion.christian', 997), ('talk.politics.guns', 910), ('talk.politics.mideast', 940), ('talk.politics.misc', 775), ('talk.religion.misc', 628)]\n"
          ]
        }
      ],
      "source": [
        "targets_str = np.array(mydata['target_names'])\n",
        "print(list(zip(targets_str, frequency)))"
      ]
    },
    {
      "cell_type": "code",
      "execution_count": null,
      "metadata": {
        "colab": {
          "base_uri": "https://localhost:8080/",
          "height": 530
        },
        "id": "Vv8VfaKR47gt",
        "outputId": "a911d555-05d4-4fb4-aefd-f44f0c5017ea"
      },
      "outputs": [
        {
          "output_type": "display_data",
          "data": {
            "text/plain": [
              "<Figure size 800x400 with 1 Axes>"
            ],
            "image/png": "[encoded data removed]"
          },
          "metadata": {}
        }
      ],
      "source": [
        "# Distribution of data classes\n",
        "fig=plt.figure(figsize=(10, 5), dpi= 80, facecolor='w', edgecolor='k')\n",
        "plt.bar(targets_str,frequency)\n",
        "plt.xticks(rotation=90)\n",
        "plt.title('Class distribution of 20 Newsgroups Training Data')\n",
        "plt.xlabel('News Group')\n",
        "plt.ylabel('Frequency')\n",
        "plt.show()"
      ]
    },
    {
      "cell_type": "markdown",
      "metadata": {
        "id": "mYvkZPCAumpU"
      },
      "source": [
        "We see that all categories have a decent number of samples and don't have much imbalance.\n",
        "\n"
      ]
    },
    {
      "cell_type": "code",
      "source": [
        "# Convert to dataFrame\n",
        "df = pd.DataFrame(data=mydata['data'], columns=['data'])\n",
        "df['target'] = mydata['target']\n",
        "\n",
        "target_names = mydata['target_names']\n",
        "df['target'] = df['target'].apply(lambda x: target_names[x])"
      ],
      "metadata": {
        "id": "Pp7niAmwpnHn"
      },
      "execution_count": null,
      "outputs": []
    },
    {
      "cell_type": "code",
      "source": [
        "df.head()"
      ],
      "metadata": {
        "colab": {
          "base_uri": "https://localhost:8080/",
          "height": 206
        },
        "id": "tAgLjBiEpopj",
        "outputId": "857b57fd-3a26-4237-ec8c-d2e4ed11609d"
      },
      "execution_count": null,
      "outputs": [
        {
          "output_type": "execute_result",
          "data": {
            "text/plain": [
              "                                                data                    target\n",
              "0  \\n\\nI am sure some bashers of Pens fans are pr...          rec.sport.hockey\n",
              "1  My brother is in the market for a high-perform...  comp.sys.ibm.pc.hardware\n",
              "2  \\n\\n\\n\\n\\tFinally you said what you dream abou...     talk.politics.mideast\n",
              "3  \\nThink!\\n\\nIt's the SCSI card doing the DMA t...  comp.sys.ibm.pc.hardware\n",
              "4  1)    I have an old Jasmine drive which I cann...     comp.sys.mac.hardware"
            ],
            "text/html": [
              "\n",
              "  <div id=\"df-35ec0e4d-bc83-494c-a501-8d4e7402c395\">\n",
              "    <div class=\"colab-df-container\">\n",
              "      <div>\n",
              "<style scoped>\n",
              "    .dataframe tbody tr th:only-of-type {\n",
              "        vertical-align: middle;\n",
              "    }\n",
              "\n",
              "    .dataframe tbody tr th {\n",
              "        vertical-align: top;\n",
              "    }\n",
              "\n",
              "    .dataframe thead th {\n",
              "        text-align: right;\n",
              "    }\n",
              "</style>\n",
              "<table border=\"1\" class=\"dataframe\">\n",
              "  <thead>\n",
              "    <tr style=\"text-align: right;\">\n",
              "      <th></th>\n",
              "      <th>data</th>\n",
              "      <th>target</th>\n",
              "    </tr>\n",
              "  </thead>\n",
              "  <tbody>\n",
              "    <tr>\n",
              "      <th>0</th>\n",
              "      <td>\\n\\nI am sure some bashers of Pens fans are pr...</td>\n",
              "      <td>rec.sport.hockey</td>\n",
              "    </tr>\n",
              "    <tr>\n",
              "      <th>1</th>\n",
              "      <td>My brother is in the market for a high-perform...</td>\n",
              "      <td>comp.sys.ibm.pc.hardware</td>\n",
              "    </tr>\n",
              "    <tr>\n",
              "      <th>2</th>\n",
              "      <td>\\n\\n\\n\\n\\tFinally you said what you dream abou...</td>\n",
              "      <td>talk.politics.mideast</td>\n",
              "    </tr>\n",
              "    <tr>\n",
              "      <th>3</th>\n",
              "      <td>\\nThink!\\n\\nIt's the SCSI card doing the DMA t...</td>\n",
              "      <td>comp.sys.ibm.pc.hardware</td>\n",
              "    </tr>\n",
              "    <tr>\n",
              "      <th>4</th>\n",
              "      <td>1)    I have an old Jasmine drive which I cann...</td>\n",
              "      <td>comp.sys.mac.hardware</td>\n",
              "    </tr>\n",
              "  </tbody>\n",
              "</table>\n",
              "</div>\n",
              "      <button class=\"colab-df-convert\" onclick=\"convertToInteractive('df-35ec0e4d-bc83-494c-a501-8d4e7402c395')\"\n",
              "              title=\"Convert this dataframe to an interactive table.\"\n",
              "              style=\"display:none;\">\n",
              "        \n",
              "  <svg xmlns=\"http://www.w3.org/2000/svg\" height=\"24px\"viewBox=\"0 0 24 24\"\n",
              "       width=\"24px\">\n",
              "    <path d=\"M0 0h24v24H0V0z\" fill=\"none\"/>\n",
              "    <path d=\"M18.56 5.44l.94 2.06.94-2.06 2.06-.94-2.06-.94-.94-2.06-.94 2.06-2.06.94zm-11 1L8.5 8.5l.94-2.06 2.06-.94-2.06-.94L8.5 2.5l-.94 2.06-2.06.94zm10 10l.94 2.06.94-2.06 2.06-.94-2.06-.94-.94-2.06-.94 2.06-2.06.94z\"/><path d=\"M17.41 7.96l-1.37-1.37c-.4-.4-.92-.59-1.43-.59-.52 0-1.04.2-1.43.59L10.3 9.45l-7.72 7.72c-.78.78-.78 2.05 0 2.83L4 21.41c.39.39.9.59 1.41.59.51 0 1.02-.2 1.41-.59l7.78-7.78 2.81-2.81c.8-.78.8-2.07 0-2.86zM5.41 20L4 18.59l7.72-7.72 1.47 1.35L5.41 20z\"/>\n",
              "  </svg>\n",
              "      </button>\n",
              "      \n",
              "  <style>\n",
              "    .colab-df-container {\n",
              "      display:flex;\n",
              "      flex-wrap:wrap;\n",
              "      gap: 12px;\n",
              "    }\n",
              "\n",
              "    .colab-df-convert {\n",
              "      background-color: #E8F0FE;\n",
              "      border: none;\n",
              "      border-radius: 50%;\n",
              "      cursor: pointer;\n",
              "      display: none;\n",
              "      fill: #1967D2;\n",
              "      height: 32px;\n",
              "      padding: 0 0 0 0;\n",
              "      width: 32px;\n",
              "    }\n",
              "\n",
              "    .colab-df-convert:hover {\n",
              "      background-color: #E2EBFA;\n",
              "      box-shadow: 0px 1px 2px rgba(60, 64, 67, 0.3), 0px 1px 3px 1px rgba(60, 64, 67, 0.15);\n",
              "      fill: #174EA6;\n",
              "    }\n",
              "\n",
              "    [theme=dark] .colab-df-convert {\n",
              "      background-color: #3B4455;\n",
              "      fill: #D2E3FC;\n",
              "    }\n",
              "\n",
              "    [theme=dark] .colab-df-convert:hover {\n",
              "      background-color: #434B5C;\n",
              "      box-shadow: 0px 1px 3px 1px rgba(0, 0, 0, 0.15);\n",
              "      filter: drop-shadow(0px 1px 2px rgba(0, 0, 0, 0.3));\n",
              "      fill: #FFFFFF;\n",
              "    }\n",
              "  </style>\n",
              "\n",
              "      <script>\n",
              "        const buttonEl =\n",
              "          document.querySelector('#df-35ec0e4d-bc83-494c-a501-8d4e7402c395 button.colab-df-convert');\n",
              "        buttonEl.style.display =\n",
              "          google.colab.kernel.accessAllowed ? 'block' : 'none';\n",
              "\n",
              "        async function convertToInteractive(key) {\n",
              "          const element = document.querySelector('#df-35ec0e4d-bc83-494c-a501-8d4e7402c395');\n",
              "          const dataTable =\n",
              "            await google.colab.kernel.invokeFunction('convertToInteractive',\n",
              "                                                     [key], {});\n",
              "          if (!dataTable) return;\n",
              "\n",
              "          const docLinkHtml = 'Like what you see? Visit the ' +\n",
              "            '<a target=\"_blank\" href=https://colab.research.google.com/notebooks/data_table.ipynb>data table notebook</a>'\n",
              "            + ' to learn more about interactive tables.';\n",
              "          element.innerHTML = '';\n",
              "          dataTable['output_type'] = 'display_data';\n",
              "          await google.colab.output.renderOutput(dataTable, element);\n",
              "          const docLink = document.createElement('div');\n",
              "          docLink.innerHTML = docLinkHtml;\n",
              "          element.appendChild(docLink);\n",
              "        }\n",
              "      </script>\n",
              "    </div>\n",
              "  </div>\n",
              "  "
            ]
          },
          "metadata": {},
          "execution_count": 66
        }
      ]
    },
    {
      "cell_type": "code",
      "source": [
        "# Detailed information about columns\n",
        "df.info()"
      ],
      "metadata": {
        "colab": {
          "base_uri": "https://localhost:8080/"
        },
        "id": "PIsYJdyhpuob",
        "outputId": "de6a41de-5585-45e8-ed64-8fbff7be0fc6"
      },
      "execution_count": null,
      "outputs": [
        {
          "output_type": "stream",
          "name": "stdout",
          "text": [
            "<class 'pandas.core.frame.DataFrame'>\n",
            "RangeIndex: 18846 entries, 0 to 18845\n",
            "Data columns (total 3 columns):\n",
            " #   Column  Non-Null Count  Dtype \n",
            "---  ------  --------------  ----- \n",
            " 0   data    18846 non-null  object\n",
            " 1   target  18846 non-null  object\n",
            " 2   length  18846 non-null  int64 \n",
            "dtypes: int64(1), object(2)\n",
            "memory usage: 441.8+ KB\n"
          ]
        }
      ]
    },
    {
      "cell_type": "code",
      "source": [
        "# Shows the dataset based on the article text length and displays the first 15 lines\n",
        "df['length'] = df['data'].apply(len)\n",
        "df.head(15)"
      ],
      "metadata": {
        "colab": {
          "base_uri": "https://localhost:8080/",
          "height": 519
        },
        "id": "Xlt8WFdxqLEQ",
        "outputId": "c4e55ebc-e75e-4d94-c734-c8013c74d7cb"
      },
      "execution_count": null,
      "outputs": [
        {
          "output_type": "execute_result",
          "data": {
            "text/plain": [
              "                                                 data  \\\n",
              "0   \\n\\nI am sure some bashers of Pens fans are pr...   \n",
              "1   My brother is in the market for a high-perform...   \n",
              "2   \\n\\n\\n\\n\\tFinally you said what you dream abou...   \n",
              "3   \\nThink!\\n\\nIt's the SCSI card doing the DMA t...   \n",
              "4   1)    I have an old Jasmine drive which I cann...   \n",
              "5   \\n\\nBack in high school I worked as a lab assi...   \n",
              "6   \\n\\nAE is in Dallas...try 214/241-6060 or 214/...   \n",
              "7   \\n[stuff deleted]\\n\\nOk, here's the solution t...   \n",
              "8   \\n\\n\\nYeah, it's the second one.  And I believ...   \n",
              "9   \\nIf a Christian means someone who believes in...   \n",
              "10  the blood of the lamb.\\n\\nThis will be a hard ...   \n",
              "11   >say they have a \"history of untrustworthy be...   \n",
              "12  930418\\n\\nDo what thou wilt shall be the whole...   \n",
              "13   How about Kirlian imaging ? I believe the FAQ...   \n",
              "14  \\n\\n\\tThere is no notion of heliocentric, or e...   \n",
              "\n",
              "                      target  length  \n",
              "0           rec.sport.hockey     712  \n",
              "1   comp.sys.ibm.pc.hardware     324  \n",
              "2      talk.politics.mideast    1678  \n",
              "3   comp.sys.ibm.pc.hardware     781  \n",
              "4      comp.sys.mac.hardware     666  \n",
              "5            sci.electronics     387  \n",
              "6      comp.sys.mac.hardware     134  \n",
              "7           rec.sport.hockey     780  \n",
              "8           rec.sport.hockey     311  \n",
              "9         talk.religion.misc     417  \n",
              "10        talk.religion.misc     225  \n",
              "11                 sci.crypt      60  \n",
              "12        talk.religion.misc    6974  \n",
              "13                   sci.med     270  \n",
              "14               alt.atheism     153  "
            ],
            "text/html": [
              "\n",
              "  <div id=\"df-dc517694-c450-4a90-bd20-6cde80470131\">\n",
              "    <div class=\"colab-df-container\">\n",
              "      <div>\n",
              "<style scoped>\n",
              "    .dataframe tbody tr th:only-of-type {\n",
              "        vertical-align: middle;\n",
              "    }\n",
              "\n",
              "    .dataframe tbody tr th {\n",
              "        vertical-align: top;\n",
              "    }\n",
              "\n",
              "    .dataframe thead th {\n",
              "        text-align: right;\n",
              "    }\n",
              "</style>\n",
              "<table border=\"1\" class=\"dataframe\">\n",
              "  <thead>\n",
              "    <tr style=\"text-align: right;\">\n",
              "      <th></th>\n",
              "      <th>data</th>\n",
              "      <th>target</th>\n",
              "      <th>length</th>\n",
              "    </tr>\n",
              "  </thead>\n",
              "  <tbody>\n",
              "    <tr>\n",
              "      <th>0</th>\n",
              "      <td>\\n\\nI am sure some bashers of Pens fans are pr...</td>\n",
              "      <td>rec.sport.hockey</td>\n",
              "      <td>712</td>\n",
              "    </tr>\n",
              "    <tr>\n",
              "      <th>1</th>\n",
              "      <td>My brother is in the market for a high-perform...</td>\n",
              "      <td>comp.sys.ibm.pc.hardware</td>\n",
              "      <td>324</td>\n",
              "    </tr>\n",
              "    <tr>\n",
              "      <th>2</th>\n",
              "      <td>\\n\\n\\n\\n\\tFinally you said what you dream abou...</td>\n",
              "      <td>talk.politics.mideast</td>\n",
              "      <td>1678</td>\n",
              "    </tr>\n",
              "    <tr>\n",
              "      <th>3</th>\n",
              "      <td>\\nThink!\\n\\nIt's the SCSI card doing the DMA t...</td>\n",
              "      <td>comp.sys.ibm.pc.hardware</td>\n",
              "      <td>781</td>\n",
              "    </tr>\n",
              "    <tr>\n",
              "      <th>4</th>\n",
              "      <td>1)    I have an old Jasmine drive which I cann...</td>\n",
              "      <td>comp.sys.mac.hardware</td>\n",
              "      <td>666</td>\n",
              "    </tr>\n",
              "    <tr>\n",
              "      <th>5</th>\n",
              "      <td>\\n\\nBack in high school I worked as a lab assi...</td>\n",
              "      <td>sci.electronics</td>\n",
              "      <td>387</td>\n",
              "    </tr>\n",
              "    <tr>\n",
              "      <th>6</th>\n",
              "      <td>\\n\\nAE is in Dallas...try 214/241-6060 or 214/...</td>\n",
              "      <td>comp.sys.mac.hardware</td>\n",
              "      <td>134</td>\n",
              "    </tr>\n",
              "    <tr>\n",
              "      <th>7</th>\n",
              "      <td>\\n[stuff deleted]\\n\\nOk, here's the solution t...</td>\n",
              "      <td>rec.sport.hockey</td>\n",
              "      <td>780</td>\n",
              "    </tr>\n",
              "    <tr>\n",
              "      <th>8</th>\n",
              "      <td>\\n\\n\\nYeah, it's the second one.  And I believ...</td>\n",
              "      <td>rec.sport.hockey</td>\n",
              "      <td>311</td>\n",
              "    </tr>\n",
              "    <tr>\n",
              "      <th>9</th>\n",
              "      <td>\\nIf a Christian means someone who believes in...</td>\n",
              "      <td>talk.religion.misc</td>\n",
              "      <td>417</td>\n",
              "    </tr>\n",
              "    <tr>\n",
              "      <th>10</th>\n",
              "      <td>the blood of the lamb.\\n\\nThis will be a hard ...</td>\n",
              "      <td>talk.religion.misc</td>\n",
              "      <td>225</td>\n",
              "    </tr>\n",
              "    <tr>\n",
              "      <th>11</th>\n",
              "      <td>&gt;say they have a \"history of untrustworthy be...</td>\n",
              "      <td>sci.crypt</td>\n",
              "      <td>60</td>\n",
              "    </tr>\n",
              "    <tr>\n",
              "      <th>12</th>\n",
              "      <td>930418\\n\\nDo what thou wilt shall be the whole...</td>\n",
              "      <td>talk.religion.misc</td>\n",
              "      <td>6974</td>\n",
              "    </tr>\n",
              "    <tr>\n",
              "      <th>13</th>\n",
              "      <td>How about Kirlian imaging ? I believe the FAQ...</td>\n",
              "      <td>sci.med</td>\n",
              "      <td>270</td>\n",
              "    </tr>\n",
              "    <tr>\n",
              "      <th>14</th>\n",
              "      <td>\\n\\n\\tThere is no notion of heliocentric, or e...</td>\n",
              "      <td>alt.atheism</td>\n",
              "      <td>153</td>\n",
              "    </tr>\n",
              "  </tbody>\n",
              "</table>\n",
              "</div>\n",
              "      <button class=\"colab-df-convert\" onclick=\"convertToInteractive('df-dc517694-c450-4a90-bd20-6cde80470131')\"\n",
              "              title=\"Convert this dataframe to an interactive table.\"\n",
              "              style=\"display:none;\">\n",
              "        \n",
              "  <svg xmlns=\"http://www.w3.org/2000/svg\" height=\"24px\"viewBox=\"0 0 24 24\"\n",
              "       width=\"24px\">\n",
              "    <path d=\"M0 0h24v24H0V0z\" fill=\"none\"/>\n",
              "    <path d=\"M18.56 5.44l.94 2.06.94-2.06 2.06-.94-2.06-.94-.94-2.06-.94 2.06-2.06.94zm-11 1L8.5 8.5l.94-2.06 2.06-.94-2.06-.94L8.5 2.5l-.94 2.06-2.06.94zm10 10l.94 2.06.94-2.06 2.06-.94-2.06-.94-.94-2.06-.94 2.06-2.06.94z\"/><path d=\"M17.41 7.96l-1.37-1.37c-.4-.4-.92-.59-1.43-.59-.52 0-1.04.2-1.43.59L10.3 9.45l-7.72 7.72c-.78.78-.78 2.05 0 2.83L4 21.41c.39.39.9.59 1.41.59.51 0 1.02-.2 1.41-.59l7.78-7.78 2.81-2.81c.8-.78.8-2.07 0-2.86zM5.41 20L4 18.59l7.72-7.72 1.47 1.35L5.41 20z\"/>\n",
              "  </svg>\n",
              "      </button>\n",
              "      \n",
              "  <style>\n",
              "    .colab-df-container {\n",
              "      display:flex;\n",
              "      flex-wrap:wrap;\n",
              "      gap: 12px;\n",
              "    }\n",
              "\n",
              "    .colab-df-convert {\n",
              "      background-color: #E8F0FE;\n",
              "      border: none;\n",
              "      border-radius: 50%;\n",
              "      cursor: pointer;\n",
              "      display: none;\n",
              "      fill: #1967D2;\n",
              "      height: 32px;\n",
              "      padding: 0 0 0 0;\n",
              "      width: 32px;\n",
              "    }\n",
              "\n",
              "    .colab-df-convert:hover {\n",
              "      background-color: #E2EBFA;\n",
              "      box-shadow: 0px 1px 2px rgba(60, 64, 67, 0.3), 0px 1px 3px 1px rgba(60, 64, 67, 0.15);\n",
              "      fill: #174EA6;\n",
              "    }\n",
              "\n",
              "    [theme=dark] .colab-df-convert {\n",
              "      background-color: #3B4455;\n",
              "      fill: #D2E3FC;\n",
              "    }\n",
              "\n",
              "    [theme=dark] .colab-df-convert:hover {\n",
              "      background-color: #434B5C;\n",
              "      box-shadow: 0px 1px 3px 1px rgba(0, 0, 0, 0.15);\n",
              "      filter: drop-shadow(0px 1px 2px rgba(0, 0, 0, 0.3));\n",
              "      fill: #FFFFFF;\n",
              "    }\n",
              "  </style>\n",
              "\n",
              "      <script>\n",
              "        const buttonEl =\n",
              "          document.querySelector('#df-dc517694-c450-4a90-bd20-6cde80470131 button.colab-df-convert');\n",
              "        buttonEl.style.display =\n",
              "          google.colab.kernel.accessAllowed ? 'block' : 'none';\n",
              "\n",
              "        async function convertToInteractive(key) {\n",
              "          const element = document.querySelector('#df-dc517694-c450-4a90-bd20-6cde80470131');\n",
              "          const dataTable =\n",
              "            await google.colab.kernel.invokeFunction('convertToInteractive',\n",
              "                                                     [key], {});\n",
              "          if (!dataTable) return;\n",
              "\n",
              "          const docLinkHtml = 'Like what you see? Visit the ' +\n",
              "            '<a target=\"_blank\" href=https://colab.research.google.com/notebooks/data_table.ipynb>data table notebook</a>'\n",
              "            + ' to learn more about interactive tables.';\n",
              "          element.innerHTML = '';\n",
              "          dataTable['output_type'] = 'display_data';\n",
              "          await google.colab.output.renderOutput(dataTable, element);\n",
              "          const docLink = document.createElement('div');\n",
              "          docLink.innerHTML = docLinkHtml;\n",
              "          element.appendChild(docLink);\n",
              "        }\n",
              "      </script>\n",
              "    </div>\n",
              "  </div>\n",
              "  "
            ]
          },
          "metadata": {},
          "execution_count": 71
        }
      ]
    },
    {
      "cell_type": "code",
      "source": [
        "# length of the longest article in the dataset\n",
        "df['length'].max()"
      ],
      "metadata": {
        "colab": {
          "base_uri": "https://localhost:8080/"
        },
        "id": "CIP9xCp6qRod",
        "outputId": "ffeb040c-c55a-48a9-ffd5-b559c20c190f"
      },
      "execution_count": null,
      "outputs": [
        {
          "output_type": "execute_result",
          "data": {
            "text/plain": [
              "158791"
            ]
          },
          "metadata": {},
          "execution_count": 72
        }
      ]
    },
    {
      "cell_type": "code",
      "source": [
        "# value of the \"target\" column for the rows in which the article length is the longest\n",
        "print(df[df['length'] == df['length'].max()]['target'])"
      ],
      "metadata": {
        "colab": {
          "base_uri": "https://localhost:8080/"
        },
        "id": "O016FKsDqbpg",
        "outputId": "ca279794-2837-4f83-b251-f0241561ac07"
      },
      "execution_count": null,
      "outputs": [
        {
          "output_type": "stream",
          "name": "stdout",
          "text": [
            "15076    comp.os.ms-windows.misc\n",
            "Name: target, dtype: object\n"
          ]
        }
      ]
    },
    {
      "cell_type": "markdown",
      "metadata": {
        "id": "uT-BFQDK6_2s"
      },
      "source": [
        "#Data preparation\n",
        "\n",
        "We will perform preparatory steps such as Tokenization, converting everything to lowercase, removing stopwords, lemmatization and converting text data to vector representation"
      ]
    },
    {
      "cell_type": "code",
      "execution_count": null,
      "metadata": {
        "colab": {
          "base_uri": "https://localhost:8080/"
        },
        "id": "HPZer0mqy35Z",
        "outputId": "25c85ea4-132d-4396-bbdd-9cc5b9b22596"
      },
      "outputs": [
        {
          "output_type": "stream",
          "name": "stdout",
          "text": [
            "Training data size: 15076\n",
            "Testing data size: 3770\n"
          ]
        }
      ],
      "source": [
        "# Division of data into training and testing\n",
        "X_train, X_test, y_train, y_test = train_test_split(mydata['data'], mydata['target'], test_size=0.2, random_state=42)\n",
        "\n",
        "print('Training data size:', len(X_train))\n",
        "print('Testing data size:', len(X_test))"
      ]
    },
    {
      "cell_type": "code",
      "execution_count": null,
      "metadata": {
        "colab": {
          "base_uri": "https://localhost:8080/",
          "height": 206
        },
        "id": "6WpBQoqijYnx",
        "outputId": "56308dee-4d0f-4682-9f3e-4493346e668c"
      },
      "outputs": [
        {
          "output_type": "execute_result",
          "data": {
            "text/plain": [
              "                                                data  target\n",
              "0  Has anyone tried connecting an Apple Laserwrit...       3\n",
              "1  COMET (Commercial Experiment Transport) is to ...      14\n",
              "2  \\n:It occurs to me that if they get a wiretap ...      11\n",
              "3  \\nNot to mention that the story was rewritten ...      16\n",
              "4  \\nBut the NSA will not be doing any wiretappin...      11"
            ],
            "text/html": [
              "\n",
              "  <div id=\"df-7f914cb9-044c-4ab8-b0e2-2acdcea99ed1\">\n",
              "    <div class=\"colab-df-container\">\n",
              "      <div>\n",
              "<style scoped>\n",
              "    .dataframe tbody tr th:only-of-type {\n",
              "        vertical-align: middle;\n",
              "    }\n",
              "\n",
              "    .dataframe tbody tr th {\n",
              "        vertical-align: top;\n",
              "    }\n",
              "\n",
              "    .dataframe thead th {\n",
              "        text-align: right;\n",
              "    }\n",
              "</style>\n",
              "<table border=\"1\" class=\"dataframe\">\n",
              "  <thead>\n",
              "    <tr style=\"text-align: right;\">\n",
              "      <th></th>\n",
              "      <th>data</th>\n",
              "      <th>target</th>\n",
              "    </tr>\n",
              "  </thead>\n",
              "  <tbody>\n",
              "    <tr>\n",
              "      <th>0</th>\n",
              "      <td>Has anyone tried connecting an Apple Laserwrit...</td>\n",
              "      <td>3</td>\n",
              "    </tr>\n",
              "    <tr>\n",
              "      <th>1</th>\n",
              "      <td>COMET (Commercial Experiment Transport) is to ...</td>\n",
              "      <td>14</td>\n",
              "    </tr>\n",
              "    <tr>\n",
              "      <th>2</th>\n",
              "      <td>\\n:It occurs to me that if they get a wiretap ...</td>\n",
              "      <td>11</td>\n",
              "    </tr>\n",
              "    <tr>\n",
              "      <th>3</th>\n",
              "      <td>\\nNot to mention that the story was rewritten ...</td>\n",
              "      <td>16</td>\n",
              "    </tr>\n",
              "    <tr>\n",
              "      <th>4</th>\n",
              "      <td>\\nBut the NSA will not be doing any wiretappin...</td>\n",
              "      <td>11</td>\n",
              "    </tr>\n",
              "  </tbody>\n",
              "</table>\n",
              "</div>\n",
              "      <button class=\"colab-df-convert\" onclick=\"convertToInteractive('df-7f914cb9-044c-4ab8-b0e2-2acdcea99ed1')\"\n",
              "              title=\"Convert this dataframe to an interactive table.\"\n",
              "              style=\"display:none;\">\n",
              "        \n",
              "  <svg xmlns=\"http://www.w3.org/2000/svg\" height=\"24px\"viewBox=\"0 0 24 24\"\n",
              "       width=\"24px\">\n",
              "    <path d=\"M0 0h24v24H0V0z\" fill=\"none\"/>\n",
              "    <path d=\"M18.56 5.44l.94 2.06.94-2.06 2.06-.94-2.06-.94-.94-2.06-.94 2.06-2.06.94zm-11 1L8.5 8.5l.94-2.06 2.06-.94-2.06-.94L8.5 2.5l-.94 2.06-2.06.94zm10 10l.94 2.06.94-2.06 2.06-.94-2.06-.94-.94-2.06-.94 2.06-2.06.94z\"/><path d=\"M17.41 7.96l-1.37-1.37c-.4-.4-.92-.59-1.43-.59-.52 0-1.04.2-1.43.59L10.3 9.45l-7.72 7.72c-.78.78-.78 2.05 0 2.83L4 21.41c.39.39.9.59 1.41.59.51 0 1.02-.2 1.41-.59l7.78-7.78 2.81-2.81c.8-.78.8-2.07 0-2.86zM5.41 20L4 18.59l7.72-7.72 1.47 1.35L5.41 20z\"/>\n",
              "  </svg>\n",
              "      </button>\n",
              "      \n",
              "  <style>\n",
              "    .colab-df-container {\n",
              "      display:flex;\n",
              "      flex-wrap:wrap;\n",
              "      gap: 12px;\n",
              "    }\n",
              "\n",
              "    .colab-df-convert {\n",
              "      background-color: #E8F0FE;\n",
              "      border: none;\n",
              "      border-radius: 50%;\n",
              "      cursor: pointer;\n",
              "      display: none;\n",
              "      fill: #1967D2;\n",
              "      height: 32px;\n",
              "      padding: 0 0 0 0;\n",
              "      width: 32px;\n",
              "    }\n",
              "\n",
              "    .colab-df-convert:hover {\n",
              "      background-color: #E2EBFA;\n",
              "      box-shadow: 0px 1px 2px rgba(60, 64, 67, 0.3), 0px 1px 3px 1px rgba(60, 64, 67, 0.15);\n",
              "      fill: #174EA6;\n",
              "    }\n",
              "\n",
              "    [theme=dark] .colab-df-convert {\n",
              "      background-color: #3B4455;\n",
              "      fill: #D2E3FC;\n",
              "    }\n",
              "\n",
              "    [theme=dark] .colab-df-convert:hover {\n",
              "      background-color: #434B5C;\n",
              "      box-shadow: 0px 1px 3px 1px rgba(0, 0, 0, 0.15);\n",
              "      filter: drop-shadow(0px 1px 2px rgba(0, 0, 0, 0.3));\n",
              "      fill: #FFFFFF;\n",
              "    }\n",
              "  </style>\n",
              "\n",
              "      <script>\n",
              "        const buttonEl =\n",
              "          document.querySelector('#df-7f914cb9-044c-4ab8-b0e2-2acdcea99ed1 button.colab-df-convert');\n",
              "        buttonEl.style.display =\n",
              "          google.colab.kernel.accessAllowed ? 'block' : 'none';\n",
              "\n",
              "        async function convertToInteractive(key) {\n",
              "          const element = document.querySelector('#df-7f914cb9-044c-4ab8-b0e2-2acdcea99ed1');\n",
              "          const dataTable =\n",
              "            await google.colab.kernel.invokeFunction('convertToInteractive',\n",
              "                                                     [key], {});\n",
              "          if (!dataTable) return;\n",
              "\n",
              "          const docLinkHtml = 'Like what you see? Visit the ' +\n",
              "            '<a target=\"_blank\" href=https://colab.research.google.com/notebooks/data_table.ipynb>data table notebook</a>'\n",
              "            + ' to learn more about interactive tables.';\n",
              "          element.innerHTML = '';\n",
              "          dataTable['output_type'] = 'display_data';\n",
              "          await google.colab.output.renderOutput(dataTable, element);\n",
              "          const docLink = document.createElement('div');\n",
              "          docLink.innerHTML = docLinkHtml;\n",
              "          element.appendChild(docLink);\n",
              "        }\n",
              "      </script>\n",
              "    </div>\n",
              "  </div>\n",
              "  "
            ]
          },
          "metadata": {},
          "execution_count": 25
        }
      ],
      "source": [
        "mydata_train_df = pd.DataFrame({'data': X_train, 'target': y_train})\n",
        "mydata_train_df.head()"
      ]
    },
    {
      "cell_type": "code",
      "execution_count": null,
      "metadata": {
        "colab": {
          "base_uri": "https://localhost:8080/",
          "height": 206
        },
        "id": "GGXzHY0jjcU0",
        "outputId": "84545e6c-4e90-4f12-fb84-bfdaee8ac2ec"
      },
      "outputs": [
        {
          "output_type": "execute_result",
          "data": {
            "text/plain": [
              "                                                data  target\n",
              "0  has anyone tried connecting an apple laserwrit...       3\n",
              "1  comet  commercial experiment transport  is to ...      14\n",
              "2  \\n it occurs to me that if they get a wiretap ...      11\n",
              "3  \\nnot to mention that the story was rewritten ...      16\n",
              "4  \\nbut the nsa will not be doing any wiretappin...      11"
            ],
            "text/html": [
              "\n",
              "  <div id=\"df-cc7dd298-1b80-49b1-8d27-cd9c0feda7ca\">\n",
              "    <div class=\"colab-df-container\">\n",
              "      <div>\n",
              "<style scoped>\n",
              "    .dataframe tbody tr th:only-of-type {\n",
              "        vertical-align: middle;\n",
              "    }\n",
              "\n",
              "    .dataframe tbody tr th {\n",
              "        vertical-align: top;\n",
              "    }\n",
              "\n",
              "    .dataframe thead th {\n",
              "        text-align: right;\n",
              "    }\n",
              "</style>\n",
              "<table border=\"1\" class=\"dataframe\">\n",
              "  <thead>\n",
              "    <tr style=\"text-align: right;\">\n",
              "      <th></th>\n",
              "      <th>data</th>\n",
              "      <th>target</th>\n",
              "    </tr>\n",
              "  </thead>\n",
              "  <tbody>\n",
              "    <tr>\n",
              "      <th>0</th>\n",
              "      <td>has anyone tried connecting an apple laserwrit...</td>\n",
              "      <td>3</td>\n",
              "    </tr>\n",
              "    <tr>\n",
              "      <th>1</th>\n",
              "      <td>comet  commercial experiment transport  is to ...</td>\n",
              "      <td>14</td>\n",
              "    </tr>\n",
              "    <tr>\n",
              "      <th>2</th>\n",
              "      <td>\\n it occurs to me that if they get a wiretap ...</td>\n",
              "      <td>11</td>\n",
              "    </tr>\n",
              "    <tr>\n",
              "      <th>3</th>\n",
              "      <td>\\nnot to mention that the story was rewritten ...</td>\n",
              "      <td>16</td>\n",
              "    </tr>\n",
              "    <tr>\n",
              "      <th>4</th>\n",
              "      <td>\\nbut the nsa will not be doing any wiretappin...</td>\n",
              "      <td>11</td>\n",
              "    </tr>\n",
              "  </tbody>\n",
              "</table>\n",
              "</div>\n",
              "      <button class=\"colab-df-convert\" onclick=\"convertToInteractive('df-cc7dd298-1b80-49b1-8d27-cd9c0feda7ca')\"\n",
              "              title=\"Convert this dataframe to an interactive table.\"\n",
              "              style=\"display:none;\">\n",
              "        \n",
              "  <svg xmlns=\"http://www.w3.org/2000/svg\" height=\"24px\"viewBox=\"0 0 24 24\"\n",
              "       width=\"24px\">\n",
              "    <path d=\"M0 0h24v24H0V0z\" fill=\"none\"/>\n",
              "    <path d=\"M18.56 5.44l.94 2.06.94-2.06 2.06-.94-2.06-.94-.94-2.06-.94 2.06-2.06.94zm-11 1L8.5 8.5l.94-2.06 2.06-.94-2.06-.94L8.5 2.5l-.94 2.06-2.06.94zm10 10l.94 2.06.94-2.06 2.06-.94-2.06-.94-.94-2.06-.94 2.06-2.06.94z\"/><path d=\"M17.41 7.96l-1.37-1.37c-.4-.4-.92-.59-1.43-.59-.52 0-1.04.2-1.43.59L10.3 9.45l-7.72 7.72c-.78.78-.78 2.05 0 2.83L4 21.41c.39.39.9.59 1.41.59.51 0 1.02-.2 1.41-.59l7.78-7.78 2.81-2.81c.8-.78.8-2.07 0-2.86zM5.41 20L4 18.59l7.72-7.72 1.47 1.35L5.41 20z\"/>\n",
              "  </svg>\n",
              "      </button>\n",
              "      \n",
              "  <style>\n",
              "    .colab-df-container {\n",
              "      display:flex;\n",
              "      flex-wrap:wrap;\n",
              "      gap: 12px;\n",
              "    }\n",
              "\n",
              "    .colab-df-convert {\n",
              "      background-color: #E8F0FE;\n",
              "      border: none;\n",
              "      border-radius: 50%;\n",
              "      cursor: pointer;\n",
              "      display: none;\n",
              "      fill: #1967D2;\n",
              "      height: 32px;\n",
              "      padding: 0 0 0 0;\n",
              "      width: 32px;\n",
              "    }\n",
              "\n",
              "    .colab-df-convert:hover {\n",
              "      background-color: #E2EBFA;\n",
              "      box-shadow: 0px 1px 2px rgba(60, 64, 67, 0.3), 0px 1px 3px 1px rgba(60, 64, 67, 0.15);\n",
              "      fill: #174EA6;\n",
              "    }\n",
              "\n",
              "    [theme=dark] .colab-df-convert {\n",
              "      background-color: #3B4455;\n",
              "      fill: #D2E3FC;\n",
              "    }\n",
              "\n",
              "    [theme=dark] .colab-df-convert:hover {\n",
              "      background-color: #434B5C;\n",
              "      box-shadow: 0px 1px 3px 1px rgba(0, 0, 0, 0.15);\n",
              "      filter: drop-shadow(0px 1px 2px rgba(0, 0, 0, 0.3));\n",
              "      fill: #FFFFFF;\n",
              "    }\n",
              "  </style>\n",
              "\n",
              "      <script>\n",
              "        const buttonEl =\n",
              "          document.querySelector('#df-cc7dd298-1b80-49b1-8d27-cd9c0feda7ca button.colab-df-convert');\n",
              "        buttonEl.style.display =\n",
              "          google.colab.kernel.accessAllowed ? 'block' : 'none';\n",
              "\n",
              "        async function convertToInteractive(key) {\n",
              "          const element = document.querySelector('#df-cc7dd298-1b80-49b1-8d27-cd9c0feda7ca');\n",
              "          const dataTable =\n",
              "            await google.colab.kernel.invokeFunction('convertToInteractive',\n",
              "                                                     [key], {});\n",
              "          if (!dataTable) return;\n",
              "\n",
              "          const docLinkHtml = 'Like what you see? Visit the ' +\n",
              "            '<a target=\"_blank\" href=https://colab.research.google.com/notebooks/data_table.ipynb>data table notebook</a>'\n",
              "            + ' to learn more about interactive tables.';\n",
              "          element.innerHTML = '';\n",
              "          dataTable['output_type'] = 'display_data';\n",
              "          await google.colab.output.renderOutput(dataTable, element);\n",
              "          const docLink = document.createElement('div');\n",
              "          docLink.innerHTML = docLinkHtml;\n",
              "          element.appendChild(docLink);\n",
              "        }\n",
              "      </script>\n",
              "    </div>\n",
              "  </div>\n",
              "  "
            ]
          },
          "metadata": {},
          "execution_count": 26
        }
      ],
      "source": [
        "# Text pre-processing stages - will remove numbers, capital letters and punctuation - traning data\n",
        "alphanumeric = lambda x: re.sub(r\"\"\"\\w*\\d\\w*\"\"\", ' ', x)\n",
        "punc_lower = lambda x: re.sub('[%s]' % re.escape(string.punctuation), ' ', x.lower())\n",
        "\n",
        "mydata_train_df['data'] = mydata_train_df.data.map(alphanumeric).map(punc_lower)\n",
        "mydata_train_df.head()"
      ]
    },
    {
      "cell_type": "code",
      "execution_count": null,
      "metadata": {
        "colab": {
          "base_uri": "https://localhost:8080/",
          "height": 206
        },
        "id": "QCD6aqGUjecX",
        "outputId": "19d64b6e-7a96-4c89-9d72-c85596e15a62"
      },
      "outputs": [
        {
          "output_type": "execute_result",
          "data": {
            "text/plain": [
              "                                                data  target\n",
              "0  \\n\\n\\n\\n\\nI don't remember the article that yo...      18\n",
              "1                                                          8\n",
              "2  Archive-Name: rec-autos/part2\\n\\nAutomotive Ma...       7\n",
              "3  \\n\\nThe Japanese are still on the learning cur...      14\n",
              "4  [..stuff deleted]\\nOh, but can Big Brother aff...      11"
            ],
            "text/html": [
              "\n",
              "  <div id=\"df-000d669e-5b7a-4be2-89b0-55c2eff5c886\">\n",
              "    <div class=\"colab-df-container\">\n",
              "      <div>\n",
              "<style scoped>\n",
              "    .dataframe tbody tr th:only-of-type {\n",
              "        vertical-align: middle;\n",
              "    }\n",
              "\n",
              "    .dataframe tbody tr th {\n",
              "        vertical-align: top;\n",
              "    }\n",
              "\n",
              "    .dataframe thead th {\n",
              "        text-align: right;\n",
              "    }\n",
              "</style>\n",
              "<table border=\"1\" class=\"dataframe\">\n",
              "  <thead>\n",
              "    <tr style=\"text-align: right;\">\n",
              "      <th></th>\n",
              "      <th>data</th>\n",
              "      <th>target</th>\n",
              "    </tr>\n",
              "  </thead>\n",
              "  <tbody>\n",
              "    <tr>\n",
              "      <th>0</th>\n",
              "      <td>\\n\\n\\n\\n\\nI don't remember the article that yo...</td>\n",
              "      <td>18</td>\n",
              "    </tr>\n",
              "    <tr>\n",
              "      <th>1</th>\n",
              "      <td></td>\n",
              "      <td>8</td>\n",
              "    </tr>\n",
              "    <tr>\n",
              "      <th>2</th>\n",
              "      <td>Archive-Name: rec-autos/part2\\n\\nAutomotive Ma...</td>\n",
              "      <td>7</td>\n",
              "    </tr>\n",
              "    <tr>\n",
              "      <th>3</th>\n",
              "      <td>\\n\\nThe Japanese are still on the learning cur...</td>\n",
              "      <td>14</td>\n",
              "    </tr>\n",
              "    <tr>\n",
              "      <th>4</th>\n",
              "      <td>[..stuff deleted]\\nOh, but can Big Brother aff...</td>\n",
              "      <td>11</td>\n",
              "    </tr>\n",
              "  </tbody>\n",
              "</table>\n",
              "</div>\n",
              "      <button class=\"colab-df-convert\" onclick=\"convertToInteractive('df-000d669e-5b7a-4be2-89b0-55c2eff5c886')\"\n",
              "              title=\"Convert this dataframe to an interactive table.\"\n",
              "              style=\"display:none;\">\n",
              "        \n",
              "  <svg xmlns=\"http://www.w3.org/2000/svg\" height=\"24px\"viewBox=\"0 0 24 24\"\n",
              "       width=\"24px\">\n",
              "    <path d=\"M0 0h24v24H0V0z\" fill=\"none\"/>\n",
              "    <path d=\"M18.56 5.44l.94 2.06.94-2.06 2.06-.94-2.06-.94-.94-2.06-.94 2.06-2.06.94zm-11 1L8.5 8.5l.94-2.06 2.06-.94-2.06-.94L8.5 2.5l-.94 2.06-2.06.94zm10 10l.94 2.06.94-2.06 2.06-.94-2.06-.94-.94-2.06-.94 2.06-2.06.94z\"/><path d=\"M17.41 7.96l-1.37-1.37c-.4-.4-.92-.59-1.43-.59-.52 0-1.04.2-1.43.59L10.3 9.45l-7.72 7.72c-.78.78-.78 2.05 0 2.83L4 21.41c.39.39.9.59 1.41.59.51 0 1.02-.2 1.41-.59l7.78-7.78 2.81-2.81c.8-.78.8-2.07 0-2.86zM5.41 20L4 18.59l7.72-7.72 1.47 1.35L5.41 20z\"/>\n",
              "  </svg>\n",
              "      </button>\n",
              "      \n",
              "  <style>\n",
              "    .colab-df-container {\n",
              "      display:flex;\n",
              "      flex-wrap:wrap;\n",
              "      gap: 12px;\n",
              "    }\n",
              "\n",
              "    .colab-df-convert {\n",
              "      background-color: #E8F0FE;\n",
              "      border: none;\n",
              "      border-radius: 50%;\n",
              "      cursor: pointer;\n",
              "      display: none;\n",
              "      fill: #1967D2;\n",
              "      height: 32px;\n",
              "      padding: 0 0 0 0;\n",
              "      width: 32px;\n",
              "    }\n",
              "\n",
              "    .colab-df-convert:hover {\n",
              "      background-color: #E2EBFA;\n",
              "      box-shadow: 0px 1px 2px rgba(60, 64, 67, 0.3), 0px 1px 3px 1px rgba(60, 64, 67, 0.15);\n",
              "      fill: #174EA6;\n",
              "    }\n",
              "\n",
              "    [theme=dark] .colab-df-convert {\n",
              "      background-color: #3B4455;\n",
              "      fill: #D2E3FC;\n",
              "    }\n",
              "\n",
              "    [theme=dark] .colab-df-convert:hover {\n",
              "      background-color: #434B5C;\n",
              "      box-shadow: 0px 1px 3px 1px rgba(0, 0, 0, 0.15);\n",
              "      filter: drop-shadow(0px 1px 2px rgba(0, 0, 0, 0.3));\n",
              "      fill: #FFFFFF;\n",
              "    }\n",
              "  </style>\n",
              "\n",
              "      <script>\n",
              "        const buttonEl =\n",
              "          document.querySelector('#df-000d669e-5b7a-4be2-89b0-55c2eff5c886 button.colab-df-convert');\n",
              "        buttonEl.style.display =\n",
              "          google.colab.kernel.accessAllowed ? 'block' : 'none';\n",
              "\n",
              "        async function convertToInteractive(key) {\n",
              "          const element = document.querySelector('#df-000d669e-5b7a-4be2-89b0-55c2eff5c886');\n",
              "          const dataTable =\n",
              "            await google.colab.kernel.invokeFunction('convertToInteractive',\n",
              "                                                     [key], {});\n",
              "          if (!dataTable) return;\n",
              "\n",
              "          const docLinkHtml = 'Like what you see? Visit the ' +\n",
              "            '<a target=\"_blank\" href=https://colab.research.google.com/notebooks/data_table.ipynb>data table notebook</a>'\n",
              "            + ' to learn more about interactive tables.';\n",
              "          element.innerHTML = '';\n",
              "          dataTable['output_type'] = 'display_data';\n",
              "          await google.colab.output.renderOutput(dataTable, element);\n",
              "          const docLink = document.createElement('div');\n",
              "          docLink.innerHTML = docLinkHtml;\n",
              "          element.appendChild(docLink);\n",
              "        }\n",
              "      </script>\n",
              "    </div>\n",
              "  </div>\n",
              "  "
            ]
          },
          "metadata": {},
          "execution_count": 27
        }
      ],
      "source": [
        "mydata_test_df = pd.DataFrame({'data': X_test, 'target': y_test})\n",
        "mydata_test_df.head()"
      ]
    },
    {
      "cell_type": "code",
      "execution_count": null,
      "metadata": {
        "colab": {
          "base_uri": "https://localhost:8080/",
          "height": 206
        },
        "id": "3mdFrTw1jipR",
        "outputId": "8fa8e7c4-8538-47d5-b512-27582e1fce67"
      },
      "outputs": [
        {
          "output_type": "execute_result",
          "data": {
            "text/plain": [
              "                                                data  target\n",
              "0  \\n\\n\\n\\n\\ni don t remember the article that yo...      18\n",
              "1                                                          8\n",
              "2  archive name  rec autos  \\n\\nautomotive mailin...       7\n",
              "3  \\n\\nthe japanese are still on the learning cur...      14\n",
              "4     stuff deleted \\noh  but can big brother aff...      11"
            ],
            "text/html": [
              "\n",
              "  <div id=\"df-eb0c2941-2765-4e62-858c-a97c969bf57c\">\n",
              "    <div class=\"colab-df-container\">\n",
              "      <div>\n",
              "<style scoped>\n",
              "    .dataframe tbody tr th:only-of-type {\n",
              "        vertical-align: middle;\n",
              "    }\n",
              "\n",
              "    .dataframe tbody tr th {\n",
              "        vertical-align: top;\n",
              "    }\n",
              "\n",
              "    .dataframe thead th {\n",
              "        text-align: right;\n",
              "    }\n",
              "</style>\n",
              "<table border=\"1\" class=\"dataframe\">\n",
              "  <thead>\n",
              "    <tr style=\"text-align: right;\">\n",
              "      <th></th>\n",
              "      <th>data</th>\n",
              "      <th>target</th>\n",
              "    </tr>\n",
              "  </thead>\n",
              "  <tbody>\n",
              "    <tr>\n",
              "      <th>0</th>\n",
              "      <td>\\n\\n\\n\\n\\ni don t remember the article that yo...</td>\n",
              "      <td>18</td>\n",
              "    </tr>\n",
              "    <tr>\n",
              "      <th>1</th>\n",
              "      <td></td>\n",
              "      <td>8</td>\n",
              "    </tr>\n",
              "    <tr>\n",
              "      <th>2</th>\n",
              "      <td>archive name  rec autos  \\n\\nautomotive mailin...</td>\n",
              "      <td>7</td>\n",
              "    </tr>\n",
              "    <tr>\n",
              "      <th>3</th>\n",
              "      <td>\\n\\nthe japanese are still on the learning cur...</td>\n",
              "      <td>14</td>\n",
              "    </tr>\n",
              "    <tr>\n",
              "      <th>4</th>\n",
              "      <td>stuff deleted \\noh  but can big brother aff...</td>\n",
              "      <td>11</td>\n",
              "    </tr>\n",
              "  </tbody>\n",
              "</table>\n",
              "</div>\n",
              "      <button class=\"colab-df-convert\" onclick=\"convertToInteractive('df-eb0c2941-2765-4e62-858c-a97c969bf57c')\"\n",
              "              title=\"Convert this dataframe to an interactive table.\"\n",
              "              style=\"display:none;\">\n",
              "        \n",
              "  <svg xmlns=\"http://www.w3.org/2000/svg\" height=\"24px\"viewBox=\"0 0 24 24\"\n",
              "       width=\"24px\">\n",
              "    <path d=\"M0 0h24v24H0V0z\" fill=\"none\"/>\n",
              "    <path d=\"M18.56 5.44l.94 2.06.94-2.06 2.06-.94-2.06-.94-.94-2.06-.94 2.06-2.06.94zm-11 1L8.5 8.5l.94-2.06 2.06-.94-2.06-.94L8.5 2.5l-.94 2.06-2.06.94zm10 10l.94 2.06.94-2.06 2.06-.94-2.06-.94-.94-2.06-.94 2.06-2.06.94z\"/><path d=\"M17.41 7.96l-1.37-1.37c-.4-.4-.92-.59-1.43-.59-.52 0-1.04.2-1.43.59L10.3 9.45l-7.72 7.72c-.78.78-.78 2.05 0 2.83L4 21.41c.39.39.9.59 1.41.59.51 0 1.02-.2 1.41-.59l7.78-7.78 2.81-2.81c.8-.78.8-2.07 0-2.86zM5.41 20L4 18.59l7.72-7.72 1.47 1.35L5.41 20z\"/>\n",
              "  </svg>\n",
              "      </button>\n",
              "      \n",
              "  <style>\n",
              "    .colab-df-container {\n",
              "      display:flex;\n",
              "      flex-wrap:wrap;\n",
              "      gap: 12px;\n",
              "    }\n",
              "\n",
              "    .colab-df-convert {\n",
              "      background-color: #E8F0FE;\n",
              "      border: none;\n",
              "      border-radius: 50%;\n",
              "      cursor: pointer;\n",
              "      display: none;\n",
              "      fill: #1967D2;\n",
              "      height: 32px;\n",
              "      padding: 0 0 0 0;\n",
              "      width: 32px;\n",
              "    }\n",
              "\n",
              "    .colab-df-convert:hover {\n",
              "      background-color: #E2EBFA;\n",
              "      box-shadow: 0px 1px 2px rgba(60, 64, 67, 0.3), 0px 1px 3px 1px rgba(60, 64, 67, 0.15);\n",
              "      fill: #174EA6;\n",
              "    }\n",
              "\n",
              "    [theme=dark] .colab-df-convert {\n",
              "      background-color: #3B4455;\n",
              "      fill: #D2E3FC;\n",
              "    }\n",
              "\n",
              "    [theme=dark] .colab-df-convert:hover {\n",
              "      background-color: #434B5C;\n",
              "      box-shadow: 0px 1px 3px 1px rgba(0, 0, 0, 0.15);\n",
              "      filter: drop-shadow(0px 1px 2px rgba(0, 0, 0, 0.3));\n",
              "      fill: #FFFFFF;\n",
              "    }\n",
              "  </style>\n",
              "\n",
              "      <script>\n",
              "        const buttonEl =\n",
              "          document.querySelector('#df-eb0c2941-2765-4e62-858c-a97c969bf57c button.colab-df-convert');\n",
              "        buttonEl.style.display =\n",
              "          google.colab.kernel.accessAllowed ? 'block' : 'none';\n",
              "\n",
              "        async function convertToInteractive(key) {\n",
              "          const element = document.querySelector('#df-eb0c2941-2765-4e62-858c-a97c969bf57c');\n",
              "          const dataTable =\n",
              "            await google.colab.kernel.invokeFunction('convertToInteractive',\n",
              "                                                     [key], {});\n",
              "          if (!dataTable) return;\n",
              "\n",
              "          const docLinkHtml = 'Like what you see? Visit the ' +\n",
              "            '<a target=\"_blank\" href=https://colab.research.google.com/notebooks/data_table.ipynb>data table notebook</a>'\n",
              "            + ' to learn more about interactive tables.';\n",
              "          element.innerHTML = '';\n",
              "          dataTable['output_type'] = 'display_data';\n",
              "          await google.colab.output.renderOutput(dataTable, element);\n",
              "          const docLink = document.createElement('div');\n",
              "          docLink.innerHTML = docLinkHtml;\n",
              "          element.appendChild(docLink);\n",
              "        }\n",
              "      </script>\n",
              "    </div>\n",
              "  </div>\n",
              "  "
            ]
          },
          "metadata": {},
          "execution_count": 28
        }
      ],
      "source": [
        "# Text preprocessing steps - will remove numbers, capital letters and punctuation - test data\n",
        "alphanumeric = lambda x: re.sub(r\"\"\"\\w*\\d\\w*\"\"\", ' ', x)\n",
        "punc_lower = lambda x: re.sub('[%s]' % re.escape(string.punctuation), ' ', x.lower())\n",
        "\n",
        "mydata_test_df['data'] = mydata_test_df.data.map(alphanumeric).map(punc_lower)\n",
        "mydata_test_df.head()"
      ]
    },
    {
      "cell_type": "code",
      "execution_count": null,
      "metadata": {
        "colab": {
          "base_uri": "https://localhost:8080/"
        },
        "id": "9J8Au8R1jkX9",
        "outputId": "57ba7736-7b25-416f-8746-c8f27317425d"
      },
      "outputs": [
        {
          "output_type": "stream",
          "name": "stdout",
          "text": [
            "(6400, 48284)\n",
            "<class 'scipy.sparse._csr.csr_matrix'>\n"
          ]
        }
      ],
      "source": [
        "# Bag of Words - counting how many times a given word appears in the document, allowing you to create a numerical representation of the text\n",
        "count_vect = CountVectorizer(stop_words='english') # English \"stop words\" (frequently occurring words like \"the\", \"is\", \"and\", etc.) will be ignored\n",
        "\n",
        "# first recognizes all unique words in the data, and then 'transforms' the data, turning the text into numerical vectors,\n",
        "# where each number represents how many times the word appears in the document\n",
        "X_train_cv = count_vect.fit_transform(mydata_train_df.data)  # learns vocabulary coding and one-hot encoding\n",
        "X_test_cv = count_vect.transform(mydata_test_df.data)\n",
        "\n",
        "print(X_train_cv.shape)\n",
        "print(type(X_train_cv))"
      ]
    },
    {
      "cell_type": "code",
      "execution_count": null,
      "metadata": {
        "colab": {
          "base_uri": "https://localhost:8080/",
          "height": 235
        },
        "id": "6CtyDgRMjo4h",
        "outputId": "03c42ae7-d813-4dc5-e7e5-8f7329d6c9bb"
      },
      "outputs": [
        {
          "output_type": "execute_result",
          "data": {
            "text/plain": [
              "   aa  aaa  aaaaa  aaaaarrrrgh  aaaall  aachen  aaf  aagain  aalac  aam  ...  \\\n",
              "0   0    0      0            0       0       0    0       0      0    0  ...   \n",
              "1   0    0      0            0       0       0    0       0      0    0  ...   \n",
              "2   0    0      0            0       0       0    0       0      0    0  ...   \n",
              "3   0    0      0            0       0       0    0       0      0    0  ...   \n",
              "4   0    0      0            0       0       0    0       0      0    0  ...   \n",
              "\n",
              "   zye  zygon  zyt  zyu  zyv  zyxel  zz  zzd  zznp  zzrk  \n",
              "0    0      0    0    0    0      0   0    0     0     0  \n",
              "1    0      0    0    0    0      0   0    0     0     0  \n",
              "2    0      0    0    0    0      0   0    0     0     0  \n",
              "3    0      0    0    0    0      0   0    0     0     0  \n",
              "4    0      0    0    0    0      0   0    0     0     0  \n",
              "\n",
              "[5 rows x 48284 columns]"
            ],
            "text/html": [
              "\n",
              "  <div id=\"df-9f9c62e7-fbf4-4658-8e08-b223b3e1ba69\">\n",
              "    <div class=\"colab-df-container\">\n",
              "      <div>\n",
              "<style scoped>\n",
              "    .dataframe tbody tr th:only-of-type {\n",
              "        vertical-align: middle;\n",
              "    }\n",
              "\n",
              "    .dataframe tbody tr th {\n",
              "        vertical-align: top;\n",
              "    }\n",
              "\n",
              "    .dataframe thead th {\n",
              "        text-align: right;\n",
              "    }\n",
              "</style>\n",
              "<table border=\"1\" class=\"dataframe\">\n",
              "  <thead>\n",
              "    <tr style=\"text-align: right;\">\n",
              "      <th></th>\n",
              "      <th>aa</th>\n",
              "      <th>aaa</th>\n",
              "      <th>aaaaa</th>\n",
              "      <th>aaaaarrrrgh</th>\n",
              "      <th>aaaall</th>\n",
              "      <th>aachen</th>\n",
              "      <th>aaf</th>\n",
              "      <th>aagain</th>\n",
              "      <th>aalac</th>\n",
              "      <th>aam</th>\n",
              "      <th>...</th>\n",
              "      <th>zye</th>\n",
              "      <th>zygon</th>\n",
              "      <th>zyt</th>\n",
              "      <th>zyu</th>\n",
              "      <th>zyv</th>\n",
              "      <th>zyxel</th>\n",
              "      <th>zz</th>\n",
              "      <th>zzd</th>\n",
              "      <th>zznp</th>\n",
              "      <th>zzrk</th>\n",
              "    </tr>\n",
              "  </thead>\n",
              "  <tbody>\n",
              "    <tr>\n",
              "      <th>0</th>\n",
              "      <td>0</td>\n",
              "      <td>0</td>\n",
              "      <td>0</td>\n",
              "      <td>0</td>\n",
              "      <td>0</td>\n",
              "      <td>0</td>\n",
              "      <td>0</td>\n",
              "      <td>0</td>\n",
              "      <td>0</td>\n",
              "      <td>0</td>\n",
              "      <td>...</td>\n",
              "      <td>0</td>\n",
              "      <td>0</td>\n",
              "      <td>0</td>\n",
              "      <td>0</td>\n",
              "      <td>0</td>\n",
              "      <td>0</td>\n",
              "      <td>0</td>\n",
              "      <td>0</td>\n",
              "      <td>0</td>\n",
              "      <td>0</td>\n",
              "    </tr>\n",
              "    <tr>\n",
              "      <th>1</th>\n",
              "      <td>0</td>\n",
              "      <td>0</td>\n",
              "      <td>0</td>\n",
              "      <td>0</td>\n",
              "      <td>0</td>\n",
              "      <td>0</td>\n",
              "      <td>0</td>\n",
              "      <td>0</td>\n",
              "      <td>0</td>\n",
              "      <td>0</td>\n",
              "      <td>...</td>\n",
              "      <td>0</td>\n",
              "      <td>0</td>\n",
              "      <td>0</td>\n",
              "      <td>0</td>\n",
              "      <td>0</td>\n",
              "      <td>0</td>\n",
              "      <td>0</td>\n",
              "      <td>0</td>\n",
              "      <td>0</td>\n",
              "      <td>0</td>\n",
              "    </tr>\n",
              "    <tr>\n",
              "      <th>2</th>\n",
              "      <td>0</td>\n",
              "      <td>0</td>\n",
              "      <td>0</td>\n",
              "      <td>0</td>\n",
              "      <td>0</td>\n",
              "      <td>0</td>\n",
              "      <td>0</td>\n",
              "      <td>0</td>\n",
              "      <td>0</td>\n",
              "      <td>0</td>\n",
              "      <td>...</td>\n",
              "      <td>0</td>\n",
              "      <td>0</td>\n",
              "      <td>0</td>\n",
              "      <td>0</td>\n",
              "      <td>0</td>\n",
              "      <td>0</td>\n",
              "      <td>0</td>\n",
              "      <td>0</td>\n",
              "      <td>0</td>\n",
              "      <td>0</td>\n",
              "    </tr>\n",
              "    <tr>\n",
              "      <th>3</th>\n",
              "      <td>0</td>\n",
              "      <td>0</td>\n",
              "      <td>0</td>\n",
              "      <td>0</td>\n",
              "      <td>0</td>\n",
              "      <td>0</td>\n",
              "      <td>0</td>\n",
              "      <td>0</td>\n",
              "      <td>0</td>\n",
              "      <td>0</td>\n",
              "      <td>...</td>\n",
              "      <td>0</td>\n",
              "      <td>0</td>\n",
              "      <td>0</td>\n",
              "      <td>0</td>\n",
              "      <td>0</td>\n",
              "      <td>0</td>\n",
              "      <td>0</td>\n",
              "      <td>0</td>\n",
              "      <td>0</td>\n",
              "      <td>0</td>\n",
              "    </tr>\n",
              "    <tr>\n",
              "      <th>4</th>\n",
              "      <td>0</td>\n",
              "      <td>0</td>\n",
              "      <td>0</td>\n",
              "      <td>0</td>\n",
              "      <td>0</td>\n",
              "      <td>0</td>\n",
              "      <td>0</td>\n",
              "      <td>0</td>\n",
              "      <td>0</td>\n",
              "      <td>0</td>\n",
              "      <td>...</td>\n",
              "      <td>0</td>\n",
              "      <td>0</td>\n",
              "      <td>0</td>\n",
              "      <td>0</td>\n",
              "      <td>0</td>\n",
              "      <td>0</td>\n",
              "      <td>0</td>\n",
              "      <td>0</td>\n",
              "      <td>0</td>\n",
              "      <td>0</td>\n",
              "    </tr>\n",
              "  </tbody>\n",
              "</table>\n",
              "<p>5 rows × 48284 columns</p>\n",
              "</div>\n",
              "      <button class=\"colab-df-convert\" onclick=\"convertToInteractive('df-9f9c62e7-fbf4-4658-8e08-b223b3e1ba69')\"\n",
              "              title=\"Convert this dataframe to an interactive table.\"\n",
              "              style=\"display:none;\">\n",
              "        \n",
              "  <svg xmlns=\"http://www.w3.org/2000/svg\" height=\"24px\"viewBox=\"0 0 24 24\"\n",
              "       width=\"24px\">\n",
              "    <path d=\"M0 0h24v24H0V0z\" fill=\"none\"/>\n",
              "    <path d=\"M18.56 5.44l.94 2.06.94-2.06 2.06-.94-2.06-.94-.94-2.06-.94 2.06-2.06.94zm-11 1L8.5 8.5l.94-2.06 2.06-.94-2.06-.94L8.5 2.5l-.94 2.06-2.06.94zm10 10l.94 2.06.94-2.06 2.06-.94-2.06-.94-.94-2.06-.94 2.06-2.06.94z\"/><path d=\"M17.41 7.96l-1.37-1.37c-.4-.4-.92-.59-1.43-.59-.52 0-1.04.2-1.43.59L10.3 9.45l-7.72 7.72c-.78.78-.78 2.05 0 2.83L4 21.41c.39.39.9.59 1.41.59.51 0 1.02-.2 1.41-.59l7.78-7.78 2.81-2.81c.8-.78.8-2.07 0-2.86zM5.41 20L4 18.59l7.72-7.72 1.47 1.35L5.41 20z\"/>\n",
              "  </svg>\n",
              "      </button>\n",
              "      \n",
              "  <style>\n",
              "    .colab-df-container {\n",
              "      display:flex;\n",
              "      flex-wrap:wrap;\n",
              "      gap: 12px;\n",
              "    }\n",
              "\n",
              "    .colab-df-convert {\n",
              "      background-color: #E8F0FE;\n",
              "      border: none;\n",
              "      border-radius: 50%;\n",
              "      cursor: pointer;\n",
              "      display: none;\n",
              "      fill: #1967D2;\n",
              "      height: 32px;\n",
              "      padding: 0 0 0 0;\n",
              "      width: 32px;\n",
              "    }\n",
              "\n",
              "    .colab-df-convert:hover {\n",
              "      background-color: #E2EBFA;\n",
              "      box-shadow: 0px 1px 2px rgba(60, 64, 67, 0.3), 0px 1px 3px 1px rgba(60, 64, 67, 0.15);\n",
              "      fill: #174EA6;\n",
              "    }\n",
              "\n",
              "    [theme=dark] .colab-df-convert {\n",
              "      background-color: #3B4455;\n",
              "      fill: #D2E3FC;\n",
              "    }\n",
              "\n",
              "    [theme=dark] .colab-df-convert:hover {\n",
              "      background-color: #434B5C;\n",
              "      box-shadow: 0px 1px 3px 1px rgba(0, 0, 0, 0.15);\n",
              "      filter: drop-shadow(0px 1px 2px rgba(0, 0, 0, 0.3));\n",
              "      fill: #FFFFFF;\n",
              "    }\n",
              "  </style>\n",
              "\n",
              "      <script>\n",
              "        const buttonEl =\n",
              "          document.querySelector('#df-9f9c62e7-fbf4-4658-8e08-b223b3e1ba69 button.colab-df-convert');\n",
              "        buttonEl.style.display =\n",
              "          google.colab.kernel.accessAllowed ? 'block' : 'none';\n",
              "\n",
              "        async function convertToInteractive(key) {\n",
              "          const element = document.querySelector('#df-9f9c62e7-fbf4-4658-8e08-b223b3e1ba69');\n",
              "          const dataTable =\n",
              "            await google.colab.kernel.invokeFunction('convertToInteractive',\n",
              "                                                     [key], {});\n",
              "          if (!dataTable) return;\n",
              "\n",
              "          const docLinkHtml = 'Like what you see? Visit the ' +\n",
              "            '<a target=\"_blank\" href=https://colab.research.google.com/notebooks/data_table.ipynb>data table notebook</a>'\n",
              "            + ' to learn more about interactive tables.';\n",
              "          element.innerHTML = '';\n",
              "          dataTable['output_type'] = 'display_data';\n",
              "          await google.colab.output.renderOutput(dataTable, element);\n",
              "          const docLink = document.createElement('div');\n",
              "          docLink.innerHTML = docLinkHtml;\n",
              "          element.appendChild(docLink);\n",
              "        }\n",
              "      </script>\n",
              "    </div>\n",
              "  </div>\n",
              "  "
            ]
          },
          "metadata": {},
          "execution_count": 30
        }
      ],
      "source": [
        "X_train_cv_df = pd.DataFrame(X_train_cv.todense()) # conversion to a dense matrix and creates a data frame\n",
        "X_train_cv_df.columns = sorted(count_vect.vocabulary_) # the dictionary contains all unique words as keys and their corresponding indexes as values\n",
        "X_train_cv_df.head()"
      ]
    },
    {
      "cell_type": "code",
      "execution_count": null,
      "metadata": {
        "colab": {
          "base_uri": "https://localhost:8080/",
          "height": 235
        },
        "id": "Eup-HqAck9ux",
        "outputId": "d0c49f5f-05ca-47be-b098-b543b4da0a65"
      },
      "outputs": [
        {
          "output_type": "execute_result",
          "data": {
            "text/plain": [
              "   aa  aaa  aaaaa  aaaaarrrrgh  aaaall  aachen  aaf  aagain  aalac  aam  ...  \\\n",
              "0   0    0      0            0       0       0    0       0      0    0  ...   \n",
              "1   0    0      0            0       0       0    0       0      0    0  ...   \n",
              "2   0    0      0            0       0       0    0       0      0    0  ...   \n",
              "3   0    0      0            0       0       0    0       0      0    0  ...   \n",
              "4   0    0      0            0       0       0    0       0      0    0  ...   \n",
              "\n",
              "   zye  zygon  zyt  zyu  zyv  zyxel  zz  zzd  zznp  zzrk  \n",
              "0    0      0    0    0    0      0   0    0     0     0  \n",
              "1    0      0    0    0    0      0   0    0     0     0  \n",
              "2    0      0    0    0    0      0   0    0     0     0  \n",
              "3    0      0    0    0    0      0   0    0     0     0  \n",
              "4    0      0    0    0    0      0   0    0     0     0  \n",
              "\n",
              "[5 rows x 48284 columns]"
            ],
            "text/html": [
              "\n",
              "  <div id=\"df-b17926b6-b748-429c-8bb9-b094ee499288\">\n",
              "    <div class=\"colab-df-container\">\n",
              "      <div>\n",
              "<style scoped>\n",
              "    .dataframe tbody tr th:only-of-type {\n",
              "        vertical-align: middle;\n",
              "    }\n",
              "\n",
              "    .dataframe tbody tr th {\n",
              "        vertical-align: top;\n",
              "    }\n",
              "\n",
              "    .dataframe thead th {\n",
              "        text-align: right;\n",
              "    }\n",
              "</style>\n",
              "<table border=\"1\" class=\"dataframe\">\n",
              "  <thead>\n",
              "    <tr style=\"text-align: right;\">\n",
              "      <th></th>\n",
              "      <th>aa</th>\n",
              "      <th>aaa</th>\n",
              "      <th>aaaaa</th>\n",
              "      <th>aaaaarrrrgh</th>\n",
              "      <th>aaaall</th>\n",
              "      <th>aachen</th>\n",
              "      <th>aaf</th>\n",
              "      <th>aagain</th>\n",
              "      <th>aalac</th>\n",
              "      <th>aam</th>\n",
              "      <th>...</th>\n",
              "      <th>zye</th>\n",
              "      <th>zygon</th>\n",
              "      <th>zyt</th>\n",
              "      <th>zyu</th>\n",
              "      <th>zyv</th>\n",
              "      <th>zyxel</th>\n",
              "      <th>zz</th>\n",
              "      <th>zzd</th>\n",
              "      <th>zznp</th>\n",
              "      <th>zzrk</th>\n",
              "    </tr>\n",
              "  </thead>\n",
              "  <tbody>\n",
              "    <tr>\n",
              "      <th>0</th>\n",
              "      <td>0</td>\n",
              "      <td>0</td>\n",
              "      <td>0</td>\n",
              "      <td>0</td>\n",
              "      <td>0</td>\n",
              "      <td>0</td>\n",
              "      <td>0</td>\n",
              "      <td>0</td>\n",
              "      <td>0</td>\n",
              "      <td>0</td>\n",
              "      <td>...</td>\n",
              "      <td>0</td>\n",
              "      <td>0</td>\n",
              "      <td>0</td>\n",
              "      <td>0</td>\n",
              "      <td>0</td>\n",
              "      <td>0</td>\n",
              "      <td>0</td>\n",
              "      <td>0</td>\n",
              "      <td>0</td>\n",
              "      <td>0</td>\n",
              "    </tr>\n",
              "    <tr>\n",
              "      <th>1</th>\n",
              "      <td>0</td>\n",
              "      <td>0</td>\n",
              "      <td>0</td>\n",
              "      <td>0</td>\n",
              "      <td>0</td>\n",
              "      <td>0</td>\n",
              "      <td>0</td>\n",
              "      <td>0</td>\n",
              "      <td>0</td>\n",
              "      <td>0</td>\n",
              "      <td>...</td>\n",
              "      <td>0</td>\n",
              "      <td>0</td>\n",
              "      <td>0</td>\n",
              "      <td>0</td>\n",
              "      <td>0</td>\n",
              "      <td>0</td>\n",
              "      <td>0</td>\n",
              "      <td>0</td>\n",
              "      <td>0</td>\n",
              "      <td>0</td>\n",
              "    </tr>\n",
              "    <tr>\n",
              "      <th>2</th>\n",
              "      <td>0</td>\n",
              "      <td>0</td>\n",
              "      <td>0</td>\n",
              "      <td>0</td>\n",
              "      <td>0</td>\n",
              "      <td>0</td>\n",
              "      <td>0</td>\n",
              "      <td>0</td>\n",
              "      <td>0</td>\n",
              "      <td>0</td>\n",
              "      <td>...</td>\n",
              "      <td>0</td>\n",
              "      <td>0</td>\n",
              "      <td>0</td>\n",
              "      <td>0</td>\n",
              "      <td>0</td>\n",
              "      <td>0</td>\n",
              "      <td>0</td>\n",
              "      <td>0</td>\n",
              "      <td>0</td>\n",
              "      <td>0</td>\n",
              "    </tr>\n",
              "    <tr>\n",
              "      <th>3</th>\n",
              "      <td>0</td>\n",
              "      <td>0</td>\n",
              "      <td>0</td>\n",
              "      <td>0</td>\n",
              "      <td>0</td>\n",
              "      <td>0</td>\n",
              "      <td>0</td>\n",
              "      <td>0</td>\n",
              "      <td>0</td>\n",
              "      <td>0</td>\n",
              "      <td>...</td>\n",
              "      <td>0</td>\n",
              "      <td>0</td>\n",
              "      <td>0</td>\n",
              "      <td>0</td>\n",
              "      <td>0</td>\n",
              "      <td>0</td>\n",
              "      <td>0</td>\n",
              "      <td>0</td>\n",
              "      <td>0</td>\n",
              "      <td>0</td>\n",
              "    </tr>\n",
              "    <tr>\n",
              "      <th>4</th>\n",
              "      <td>0</td>\n",
              "      <td>0</td>\n",
              "      <td>0</td>\n",
              "      <td>0</td>\n",
              "      <td>0</td>\n",
              "      <td>0</td>\n",
              "      <td>0</td>\n",
              "      <td>0</td>\n",
              "      <td>0</td>\n",
              "      <td>0</td>\n",
              "      <td>...</td>\n",
              "      <td>0</td>\n",
              "      <td>0</td>\n",
              "      <td>0</td>\n",
              "      <td>0</td>\n",
              "      <td>0</td>\n",
              "      <td>0</td>\n",
              "      <td>0</td>\n",
              "      <td>0</td>\n",
              "      <td>0</td>\n",
              "      <td>0</td>\n",
              "    </tr>\n",
              "  </tbody>\n",
              "</table>\n",
              "<p>5 rows × 48284 columns</p>\n",
              "</div>\n",
              "      <button class=\"colab-df-convert\" onclick=\"convertToInteractive('df-b17926b6-b748-429c-8bb9-b094ee499288')\"\n",
              "              title=\"Convert this dataframe to an interactive table.\"\n",
              "              style=\"display:none;\">\n",
              "        \n",
              "  <svg xmlns=\"http://www.w3.org/2000/svg\" height=\"24px\"viewBox=\"0 0 24 24\"\n",
              "       width=\"24px\">\n",
              "    <path d=\"M0 0h24v24H0V0z\" fill=\"none\"/>\n",
              "    <path d=\"M18.56 5.44l.94 2.06.94-2.06 2.06-.94-2.06-.94-.94-2.06-.94 2.06-2.06.94zm-11 1L8.5 8.5l.94-2.06 2.06-.94-2.06-.94L8.5 2.5l-.94 2.06-2.06.94zm10 10l.94 2.06.94-2.06 2.06-.94-2.06-.94-.94-2.06-.94 2.06-2.06.94z\"/><path d=\"M17.41 7.96l-1.37-1.37c-.4-.4-.92-.59-1.43-.59-.52 0-1.04.2-1.43.59L10.3 9.45l-7.72 7.72c-.78.78-.78 2.05 0 2.83L4 21.41c.39.39.9.59 1.41.59.51 0 1.02-.2 1.41-.59l7.78-7.78 2.81-2.81c.8-.78.8-2.07 0-2.86zM5.41 20L4 18.59l7.72-7.72 1.47 1.35L5.41 20z\"/>\n",
              "  </svg>\n",
              "      </button>\n",
              "      \n",
              "  <style>\n",
              "    .colab-df-container {\n",
              "      display:flex;\n",
              "      flex-wrap:wrap;\n",
              "      gap: 12px;\n",
              "    }\n",
              "\n",
              "    .colab-df-convert {\n",
              "      background-color: #E8F0FE;\n",
              "      border: none;\n",
              "      border-radius: 50%;\n",
              "      cursor: pointer;\n",
              "      display: none;\n",
              "      fill: #1967D2;\n",
              "      height: 32px;\n",
              "      padding: 0 0 0 0;\n",
              "      width: 32px;\n",
              "    }\n",
              "\n",
              "    .colab-df-convert:hover {\n",
              "      background-color: #E2EBFA;\n",
              "      box-shadow: 0px 1px 2px rgba(60, 64, 67, 0.3), 0px 1px 3px 1px rgba(60, 64, 67, 0.15);\n",
              "      fill: #174EA6;\n",
              "    }\n",
              "\n",
              "    [theme=dark] .colab-df-convert {\n",
              "      background-color: #3B4455;\n",
              "      fill: #D2E3FC;\n",
              "    }\n",
              "\n",
              "    [theme=dark] .colab-df-convert:hover {\n",
              "      background-color: #434B5C;\n",
              "      box-shadow: 0px 1px 3px 1px rgba(0, 0, 0, 0.15);\n",
              "      filter: drop-shadow(0px 1px 2px rgba(0, 0, 0, 0.3));\n",
              "      fill: #FFFFFF;\n",
              "    }\n",
              "  </style>\n",
              "\n",
              "      <script>\n",
              "        const buttonEl =\n",
              "          document.querySelector('#df-b17926b6-b748-429c-8bb9-b094ee499288 button.colab-df-convert');\n",
              "        buttonEl.style.display =\n",
              "          google.colab.kernel.accessAllowed ? 'block' : 'none';\n",
              "\n",
              "        async function convertToInteractive(key) {\n",
              "          const element = document.querySelector('#df-b17926b6-b748-429c-8bb9-b094ee499288');\n",
              "          const dataTable =\n",
              "            await google.colab.kernel.invokeFunction('convertToInteractive',\n",
              "                                                     [key], {});\n",
              "          if (!dataTable) return;\n",
              "\n",
              "          const docLinkHtml = 'Like what you see? Visit the ' +\n",
              "            '<a target=\"_blank\" href=https://colab.research.google.com/notebooks/data_table.ipynb>data table notebook</a>'\n",
              "            + ' to learn more about interactive tables.';\n",
              "          element.innerHTML = '';\n",
              "          dataTable['output_type'] = 'display_data';\n",
              "          await google.colab.output.renderOutput(dataTable, element);\n",
              "          const docLink = document.createElement('div');\n",
              "          docLink.innerHTML = docLinkHtml;\n",
              "          element.appendChild(docLink);\n",
              "        }\n",
              "      </script>\n",
              "    </div>\n",
              "  </div>\n",
              "  "
            ]
          },
          "metadata": {},
          "execution_count": 31
        }
      ],
      "source": [
        "X_test_cv_df = pd.DataFrame(X_test_cv.todense())\n",
        "X_test_cv_df.columns = sorted(count_vect.vocabulary_)\n",
        "X_test_cv_df.head()"
      ]
    },
    {
      "cell_type": "code",
      "execution_count": null,
      "metadata": {
        "colab": {
          "base_uri": "https://localhost:8080/"
        },
        "id": "sZV2bezsjsCG",
        "outputId": "cc00f2c2-b55c-45cb-e742-09dc248cde2d"
      },
      "outputs": [
        {
          "output_type": "execute_result",
          "data": {
            "text/plain": [
              "(6400, 48284)"
            ]
          },
          "metadata": {},
          "execution_count": 32
        }
      ],
      "source": [
        "# TF-IDF - used to assign a weight to each word in a document based on its frequency of occurrence in a given document in relation to the entire set of documents\n",
        "tfidf_transformer = TfidfTransformer()\n",
        "X_train_tfidf = tfidf_transformer.fit_transform(X_train_cv_df) #X_train_counts\n",
        "X_train_tfidf.shape"
      ]
    },
    {
      "cell_type": "code",
      "execution_count": null,
      "metadata": {
        "colab": {
          "base_uri": "https://localhost:8080/"
        },
        "id": "X7BvbGmIlKYi",
        "outputId": "17cea23c-aacf-4015-cb60-b9d5ea17611a"
      },
      "outputs": [
        {
          "output_type": "stream",
          "name": "stdout",
          "text": [
            "(6400, 48284)\n",
            "<class 'scipy.sparse._csr.csr_matrix'>\n"
          ]
        }
      ],
      "source": [
        "# Creating a document matrix using TF-IDF\n",
        "tfidfV = TfidfVectorizer(stop_words='english')\n",
        "\n",
        "# X_train_tfidfV - matrix where rows represent documents and columns represent unique words\n",
        "X_train_tfidfV = tfidfV.fit_transform(mydata_train_df.data) # fit_transform learns the vocab and one-hot encodes\n",
        "# uses a dictionary \"trained\" on training data to transform test data into the same numerical form\n",
        "X_test_tfidfV = tfidfV.transform(mydata_test_df.data) # transform uses the same vocab and one-hot encodes\n",
        "\n",
        "print(type(X_train_tfidfV))"
      ]
    },
    {
      "cell_type": "code",
      "execution_count": null,
      "metadata": {
        "colab": {
          "base_uri": "https://localhost:8080/",
          "height": 235
        },
        "id": "IvogvPEXlNRF",
        "outputId": "025a957b-d863-431e-c4db-ad3155f890a3"
      },
      "outputs": [
        {
          "output_type": "execute_result",
          "data": {
            "text/plain": [
              "    aa  aaa  aaaaa  aaaaarrrrgh  aaaall  aachen  aaf  aagain  aalac  aam  ...  \\\n",
              "0  0.0  0.0    0.0          0.0     0.0     0.0  0.0     0.0    0.0  0.0  ...   \n",
              "1  0.0  0.0    0.0          0.0     0.0     0.0  0.0     0.0    0.0  0.0  ...   \n",
              "2  0.0  0.0    0.0          0.0     0.0     0.0  0.0     0.0    0.0  0.0  ...   \n",
              "3  0.0  0.0    0.0          0.0     0.0     0.0  0.0     0.0    0.0  0.0  ...   \n",
              "4  0.0  0.0    0.0          0.0     0.0     0.0  0.0     0.0    0.0  0.0  ...   \n",
              "\n",
              "   zye  zygon  zyt  zyu  zyv  zyxel   zz  zzd  zznp  zzrk  \n",
              "0  0.0    0.0  0.0  0.0  0.0    0.0  0.0  0.0   0.0   0.0  \n",
              "1  0.0    0.0  0.0  0.0  0.0    0.0  0.0  0.0   0.0   0.0  \n",
              "2  0.0    0.0  0.0  0.0  0.0    0.0  0.0  0.0   0.0   0.0  \n",
              "3  0.0    0.0  0.0  0.0  0.0    0.0  0.0  0.0   0.0   0.0  \n",
              "4  0.0    0.0  0.0  0.0  0.0    0.0  0.0  0.0   0.0   0.0  \n",
              "\n",
              "[5 rows x 48284 columns]"
            ],
            "text/html": [
              "\n",
              "  <div id=\"df-eb541b5e-7de5-4b38-b939-c9032767a5fc\">\n",
              "    <div class=\"colab-df-container\">\n",
              "      <div>\n",
              "<style scoped>\n",
              "    .dataframe tbody tr th:only-of-type {\n",
              "        vertical-align: middle;\n",
              "    }\n",
              "\n",
              "    .dataframe tbody tr th {\n",
              "        vertical-align: top;\n",
              "    }\n",
              "\n",
              "    .dataframe thead th {\n",
              "        text-align: right;\n",
              "    }\n",
              "</style>\n",
              "<table border=\"1\" class=\"dataframe\">\n",
              "  <thead>\n",
              "    <tr style=\"text-align: right;\">\n",
              "      <th></th>\n",
              "      <th>aa</th>\n",
              "      <th>aaa</th>\n",
              "      <th>aaaaa</th>\n",
              "      <th>aaaaarrrrgh</th>\n",
              "      <th>aaaall</th>\n",
              "      <th>aachen</th>\n",
              "      <th>aaf</th>\n",
              "      <th>aagain</th>\n",
              "      <th>aalac</th>\n",
              "      <th>aam</th>\n",
              "      <th>...</th>\n",
              "      <th>zye</th>\n",
              "      <th>zygon</th>\n",
              "      <th>zyt</th>\n",
              "      <th>zyu</th>\n",
              "      <th>zyv</th>\n",
              "      <th>zyxel</th>\n",
              "      <th>zz</th>\n",
              "      <th>zzd</th>\n",
              "      <th>zznp</th>\n",
              "      <th>zzrk</th>\n",
              "    </tr>\n",
              "  </thead>\n",
              "  <tbody>\n",
              "    <tr>\n",
              "      <th>0</th>\n",
              "      <td>0.0</td>\n",
              "      <td>0.0</td>\n",
              "      <td>0.0</td>\n",
              "      <td>0.0</td>\n",
              "      <td>0.0</td>\n",
              "      <td>0.0</td>\n",
              "      <td>0.0</td>\n",
              "      <td>0.0</td>\n",
              "      <td>0.0</td>\n",
              "      <td>0.0</td>\n",
              "      <td>...</td>\n",
              "      <td>0.0</td>\n",
              "      <td>0.0</td>\n",
              "      <td>0.0</td>\n",
              "      <td>0.0</td>\n",
              "      <td>0.0</td>\n",
              "      <td>0.0</td>\n",
              "      <td>0.0</td>\n",
              "      <td>0.0</td>\n",
              "      <td>0.0</td>\n",
              "      <td>0.0</td>\n",
              "    </tr>\n",
              "    <tr>\n",
              "      <th>1</th>\n",
              "      <td>0.0</td>\n",
              "      <td>0.0</td>\n",
              "      <td>0.0</td>\n",
              "      <td>0.0</td>\n",
              "      <td>0.0</td>\n",
              "      <td>0.0</td>\n",
              "      <td>0.0</td>\n",
              "      <td>0.0</td>\n",
              "      <td>0.0</td>\n",
              "      <td>0.0</td>\n",
              "      <td>...</td>\n",
              "      <td>0.0</td>\n",
              "      <td>0.0</td>\n",
              "      <td>0.0</td>\n",
              "      <td>0.0</td>\n",
              "      <td>0.0</td>\n",
              "      <td>0.0</td>\n",
              "      <td>0.0</td>\n",
              "      <td>0.0</td>\n",
              "      <td>0.0</td>\n",
              "      <td>0.0</td>\n",
              "    </tr>\n",
              "    <tr>\n",
              "      <th>2</th>\n",
              "      <td>0.0</td>\n",
              "      <td>0.0</td>\n",
              "      <td>0.0</td>\n",
              "      <td>0.0</td>\n",
              "      <td>0.0</td>\n",
              "      <td>0.0</td>\n",
              "      <td>0.0</td>\n",
              "      <td>0.0</td>\n",
              "      <td>0.0</td>\n",
              "      <td>0.0</td>\n",
              "      <td>...</td>\n",
              "      <td>0.0</td>\n",
              "      <td>0.0</td>\n",
              "      <td>0.0</td>\n",
              "      <td>0.0</td>\n",
              "      <td>0.0</td>\n",
              "      <td>0.0</td>\n",
              "      <td>0.0</td>\n",
              "      <td>0.0</td>\n",
              "      <td>0.0</td>\n",
              "      <td>0.0</td>\n",
              "    </tr>\n",
              "    <tr>\n",
              "      <th>3</th>\n",
              "      <td>0.0</td>\n",
              "      <td>0.0</td>\n",
              "      <td>0.0</td>\n",
              "      <td>0.0</td>\n",
              "      <td>0.0</td>\n",
              "      <td>0.0</td>\n",
              "      <td>0.0</td>\n",
              "      <td>0.0</td>\n",
              "      <td>0.0</td>\n",
              "      <td>0.0</td>\n",
              "      <td>...</td>\n",
              "      <td>0.0</td>\n",
              "      <td>0.0</td>\n",
              "      <td>0.0</td>\n",
              "      <td>0.0</td>\n",
              "      <td>0.0</td>\n",
              "      <td>0.0</td>\n",
              "      <td>0.0</td>\n",
              "      <td>0.0</td>\n",
              "      <td>0.0</td>\n",
              "      <td>0.0</td>\n",
              "    </tr>\n",
              "    <tr>\n",
              "      <th>4</th>\n",
              "      <td>0.0</td>\n",
              "      <td>0.0</td>\n",
              "      <td>0.0</td>\n",
              "      <td>0.0</td>\n",
              "      <td>0.0</td>\n",
              "      <td>0.0</td>\n",
              "      <td>0.0</td>\n",
              "      <td>0.0</td>\n",
              "      <td>0.0</td>\n",
              "      <td>0.0</td>\n",
              "      <td>...</td>\n",
              "      <td>0.0</td>\n",
              "      <td>0.0</td>\n",
              "      <td>0.0</td>\n",
              "      <td>0.0</td>\n",
              "      <td>0.0</td>\n",
              "      <td>0.0</td>\n",
              "      <td>0.0</td>\n",
              "      <td>0.0</td>\n",
              "      <td>0.0</td>\n",
              "      <td>0.0</td>\n",
              "    </tr>\n",
              "  </tbody>\n",
              "</table>\n",
              "<p>5 rows × 48284 columns</p>\n",
              "</div>\n",
              "      <button class=\"colab-df-convert\" onclick=\"convertToInteractive('df-eb541b5e-7de5-4b38-b939-c9032767a5fc')\"\n",
              "              title=\"Convert this dataframe to an interactive table.\"\n",
              "              style=\"display:none;\">\n",
              "        \n",
              "  <svg xmlns=\"http://www.w3.org/2000/svg\" height=\"24px\"viewBox=\"0 0 24 24\"\n",
              "       width=\"24px\">\n",
              "    <path d=\"M0 0h24v24H0V0z\" fill=\"none\"/>\n",
              "    <path d=\"M18.56 5.44l.94 2.06.94-2.06 2.06-.94-2.06-.94-.94-2.06-.94 2.06-2.06.94zm-11 1L8.5 8.5l.94-2.06 2.06-.94-2.06-.94L8.5 2.5l-.94 2.06-2.06.94zm10 10l.94 2.06.94-2.06 2.06-.94-2.06-.94-.94-2.06-.94 2.06-2.06.94z\"/><path d=\"M17.41 7.96l-1.37-1.37c-.4-.4-.92-.59-1.43-.59-.52 0-1.04.2-1.43.59L10.3 9.45l-7.72 7.72c-.78.78-.78 2.05 0 2.83L4 21.41c.39.39.9.59 1.41.59.51 0 1.02-.2 1.41-.59l7.78-7.78 2.81-2.81c.8-.78.8-2.07 0-2.86zM5.41 20L4 18.59l7.72-7.72 1.47 1.35L5.41 20z\"/>\n",
              "  </svg>\n",
              "      </button>\n",
              "      \n",
              "  <style>\n",
              "    .colab-df-container {\n",
              "      display:flex;\n",
              "      flex-wrap:wrap;\n",
              "      gap: 12px;\n",
              "    }\n",
              "\n",
              "    .colab-df-convert {\n",
              "      background-color: #E8F0FE;\n",
              "      border: none;\n",
              "      border-radius: 50%;\n",
              "      cursor: pointer;\n",
              "      display: none;\n",
              "      fill: #1967D2;\n",
              "      height: 32px;\n",
              "      padding: 0 0 0 0;\n",
              "      width: 32px;\n",
              "    }\n",
              "\n",
              "    .colab-df-convert:hover {\n",
              "      background-color: #E2EBFA;\n",
              "      box-shadow: 0px 1px 2px rgba(60, 64, 67, 0.3), 0px 1px 3px 1px rgba(60, 64, 67, 0.15);\n",
              "      fill: #174EA6;\n",
              "    }\n",
              "\n",
              "    [theme=dark] .colab-df-convert {\n",
              "      background-color: #3B4455;\n",
              "      fill: #D2E3FC;\n",
              "    }\n",
              "\n",
              "    [theme=dark] .colab-df-convert:hover {\n",
              "      background-color: #434B5C;\n",
              "      box-shadow: 0px 1px 3px 1px rgba(0, 0, 0, 0.15);\n",
              "      filter: drop-shadow(0px 1px 2px rgba(0, 0, 0, 0.3));\n",
              "      fill: #FFFFFF;\n",
              "    }\n",
              "  </style>\n",
              "\n",
              "      <script>\n",
              "        const buttonEl =\n",
              "          document.querySelector('#df-eb541b5e-7de5-4b38-b939-c9032767a5fc button.colab-df-convert');\n",
              "        buttonEl.style.display =\n",
              "          google.colab.kernel.accessAllowed ? 'block' : 'none';\n",
              "\n",
              "        async function convertToInteractive(key) {\n",
              "          const element = document.querySelector('#df-eb541b5e-7de5-4b38-b939-c9032767a5fc');\n",
              "          const dataTable =\n",
              "            await google.colab.kernel.invokeFunction('convertToInteractive',\n",
              "                                                     [key], {});\n",
              "          if (!dataTable) return;\n",
              "\n",
              "          const docLinkHtml = 'Like what you see? Visit the ' +\n",
              "            '<a target=\"_blank\" href=https://colab.research.google.com/notebooks/data_table.ipynb>data table notebook</a>'\n",
              "            + ' to learn more about interactive tables.';\n",
              "          element.innerHTML = '';\n",
              "          dataTable['output_type'] = 'display_data';\n",
              "          await google.colab.output.renderOutput(dataTable, element);\n",
              "          const docLink = document.createElement('div');\n",
              "          docLink.innerHTML = docLinkHtml;\n",
              "          element.appendChild(docLink);\n",
              "        }\n",
              "      </script>\n",
              "    </div>\n",
              "  </div>\n",
              "  "
            ]
          },
          "metadata": {},
          "execution_count": 34
        }
      ],
      "source": [
        "X_train_tfidfV_df = pd.DataFrame(X_train_tfidfV.todense())\n",
        "X_train_tfidfV_df.columns = sorted(tfidfV.vocabulary_)\n",
        "X_train_tfidfV_df.head()"
      ]
    },
    {
      "cell_type": "code",
      "execution_count": null,
      "metadata": {
        "colab": {
          "base_uri": "https://localhost:8080/"
        },
        "id": "mtkrQPm2WC72",
        "outputId": "67641f3f-40b9-43f1-991e-5fb740051339"
      },
      "outputs": [
        {
          "output_type": "stream",
          "name": "stderr",
          "text": [
            "[nltk_data] Downloading package wordnet to /root/nltk_data...\n"
          ]
        },
        {
          "output_type": "execute_result",
          "data": {
            "text/plain": [
              "True"
            ]
          },
          "metadata": {},
          "execution_count": 35
        }
      ],
      "source": [
        "nltk.download('wordnet')"
      ]
    },
    {
      "cell_type": "code",
      "execution_count": null,
      "metadata": {
        "id": "FIqiulaUVWic"
      },
      "outputs": [],
      "source": [
        "#Lemmatization (note that other processing such as alphanumeric and lowercase removal has already been done)\n",
        "w_tokenizer = nltk.tokenize.WhitespaceTokenizer() # divides text into units (tokens) based on whitespace (e.g. spaces, tabs, newlines)\n",
        "lemmatizer = nltk.stem.WordNetLemmatizer() # transforms words into their base form (e.g. \"running\" becomes \"running\")\n",
        "\n",
        "# text as input, splits it into tokens using a tokenizer, lemmatizes each token and concatenates them back into one string\n",
        "def lemmatize_text(text):\n",
        "    return(\" \".join([lemmatizer.lemmatize(w,\"v\") for w in w_tokenizer.tokenize(text)]))\n",
        "\n",
        "# we create a new column \"data lemmatized\" using the lemmatize text function\n",
        "mydata_train_df[\"data_lemmatized\"] = mydata_train_df.data.apply(lemmatize_text)\n",
        "mydata_test_df[\"data_lemmatized\"] = mydata_test_df.data.apply(lemmatize_text)\n",
        "\n",
        "# Using Tfidf removes words that appear in less than 0.05 percent of documents\n",
        "# min_df which ignores words that appear in less than 0.05% of documents (a way to reduce data dimensions by removing the least frequent words)\n",
        "tfidfV = TfidfVectorizer(stop_words='english', min_df = 0.0005)\n",
        "\n",
        "#Data for neural networks\n",
        "xTrain = tfidfV.fit_transform(mydata_train_df.data_lemmatized)\n",
        "yTrainHot = to_categorical(mydata_train_df[\"target\"], num_classes=20)\n",
        "xTest = tfidfV.transform(mydata_test_df.data_lemmatized)\n",
        "yTestHot = to_categorical(mydata_test_df[\"target\"], num_classes=20)\n",
        "\n",
        "\n",
        "# New shape of the neural network. Reduces dimensions to 13946 to keep only important words and speed up the learning process\n",
        "print(xTrain.shape)"
      ]
    },
    {
      "cell_type": "markdown",
      "source": [
        "# Reference model"
      ],
      "metadata": {
        "id": "dwSYP6ppraB2"
      }
    },
    {
      "cell_type": "code",
      "execution_count": null,
      "metadata": {
        "id": "WBGSX5-NZl0K"
      },
      "outputs": [],
      "source": [
        "# Division of data into training and validation data (20 by 80)\n",
        "xTrain, xVal, yTrainHot, yValHot = train_test_split(xTrain, yTrainHot, test_size=0.2, random_state=42)"
      ]
    },
    {
      "cell_type": "code",
      "execution_count": null,
      "metadata": {
        "colab": {
          "base_uri": "https://localhost:8080/"
        },
        "id": "wOdHLR4XYdnc",
        "outputId": "04a9408c-0dea-4c89-91a6-9d0ab3312956"
      },
      "outputs": [
        {
          "output_type": "stream",
          "name": "stdout",
          "text": [
            "Epoch 1/20\n",
            "26/26 [==============================] - 7s 32ms/step - loss: 2.9792 - accuracy: 0.0885 - val_loss: 2.9470 - val_accuracy: 0.1219\n",
            "Epoch 2/20\n",
            "26/26 [==============================] - 0s 10ms/step - loss: 2.8736 - accuracy: 0.1842 - val_loss: 2.8263 - val_accuracy: 0.2047\n",
            "Epoch 3/20\n",
            "26/26 [==============================] - 0s 9ms/step - loss: 2.6671 - accuracy: 0.3324 - val_loss: 2.6223 - val_accuracy: 0.3156\n",
            "Epoch 4/20\n",
            "26/26 [==============================] - 0s 10ms/step - loss: 2.3549 - accuracy: 0.5193 - val_loss: 2.3467 - val_accuracy: 0.4812\n",
            "Epoch 5/20\n",
            "26/26 [==============================] - 0s 9ms/step - loss: 1.9789 - accuracy: 0.6770 - val_loss: 2.0456 - val_accuracy: 0.5828\n",
            "Epoch 6/20\n",
            "26/26 [==============================] - 0s 9ms/step - loss: 1.5969 - accuracy: 0.7949 - val_loss: 1.7715 - val_accuracy: 0.6336\n",
            "Epoch 7/20\n",
            "26/26 [==============================] - 0s 9ms/step - loss: 1.2656 - accuracy: 0.8490 - val_loss: 1.5549 - val_accuracy: 0.6500\n",
            "Epoch 8/20\n",
            "26/26 [==============================] - 0s 9ms/step - loss: 1.0045 - accuracy: 0.8736 - val_loss: 1.4000 - val_accuracy: 0.6609\n",
            "Epoch 9/20\n",
            "26/26 [==============================] - 0s 10ms/step - loss: 0.8065 - accuracy: 0.8904 - val_loss: 1.2993 - val_accuracy: 0.6711\n",
            "Epoch 10/20\n",
            "26/26 [==============================] - 0s 9ms/step - loss: 0.6565 - accuracy: 0.9041 - val_loss: 1.2304 - val_accuracy: 0.6789\n",
            "Epoch 11/20\n",
            "26/26 [==============================] - 0s 10ms/step - loss: 0.5441 - accuracy: 0.9193 - val_loss: 1.1836 - val_accuracy: 0.6836\n",
            "Epoch 12/20\n",
            "26/26 [==============================] - 0s 9ms/step - loss: 0.4557 - accuracy: 0.9316 - val_loss: 1.1516 - val_accuracy: 0.6859\n",
            "Epoch 13/20\n",
            "26/26 [==============================] - 0s 10ms/step - loss: 0.3879 - accuracy: 0.9432 - val_loss: 1.1290 - val_accuracy: 0.6820\n",
            "Epoch 14/20\n",
            "26/26 [==============================] - 0s 9ms/step - loss: 0.3348 - accuracy: 0.9480 - val_loss: 1.1213 - val_accuracy: 0.6828\n",
            "Epoch 15/20\n",
            "26/26 [==============================] - 0s 9ms/step - loss: 0.2919 - accuracy: 0.9537 - val_loss: 1.1110 - val_accuracy: 0.6859\n",
            "Epoch 16/20\n",
            "26/26 [==============================] - 0s 10ms/step - loss: 0.2576 - accuracy: 0.9570 - val_loss: 1.1105 - val_accuracy: 0.6805\n",
            "Epoch 17/20\n",
            "26/26 [==============================] - 0s 9ms/step - loss: 0.2304 - accuracy: 0.9611 - val_loss: 1.1073 - val_accuracy: 0.6906\n",
            "Epoch 18/20\n",
            "26/26 [==============================] - 0s 9ms/step - loss: 0.2090 - accuracy: 0.9633 - val_loss: 1.1082 - val_accuracy: 0.6852\n",
            "Epoch 19/20\n",
            "26/26 [==============================] - 0s 10ms/step - loss: 0.1913 - accuracy: 0.9652 - val_loss: 1.1165 - val_accuracy: 0.6852\n",
            "Epoch 20/20\n",
            "26/26 [==============================] - 0s 9ms/step - loss: 0.1767 - accuracy: 0.9674 - val_loss: 1.1160 - val_accuracy: 0.6812\n"
          ]
        }
      ],
      "source": [
        "# We build a neural network model\n",
        "# (baseline - input layer and one hidden layer of 32 neurons each and output layer of 20)\n",
        "model1 = Sequential()\n",
        "model1.add(Dense(32, activation='relu'))\n",
        "model1.add(Dense(32, activation='relu'))\n",
        "model1.add(Dense(20, activation='softmax'))\n",
        "\n",
        "# We compile the model\n",
        "model1.compile(optimizer='adam', loss='categorical_crossentropy', metrics=['accuracy'])\n",
        "\n",
        "# train the model\n",
        "history = model1.fit(xTrain.toarray(), yTrainHot, epochs=20, batch_size=200, validation_data=(xVal.toarray(), yValHot))\n",
        "# Accuracy refers to the percentage of correct predictions made by the model, while loss is a measure of the model's prediction error\n",
        "# (i.e. how far the predictions are from the actual values)."
      ]
    },
    {
      "cell_type": "code",
      "execution_count": null,
      "metadata": {
        "colab": {
          "base_uri": "https://localhost:8080/",
          "height": 883
        },
        "id": "VBEk54hQ1Rtl",
        "outputId": "cfc12ae7-5d7d-433a-97f8-608494d71fe1"
      },
      "outputs": [
        {
          "output_type": "display_data",
          "data": {
            "text/plain": [
              "<Figure size 640x480 with 1 Axes>"
            ],
            "image/png": "[encoded data removed]"
          },
          "metadata": {}
        },
        {
          "output_type": "display_data",
          "data": {
            "text/plain": [
              "<Figure size 640x480 with 1 Axes>"
            ],
            "image/png": "[encoded data removed]"
          },
          "metadata": {}
        }
      ],
      "source": [
        "# Learning history analysis\n",
        "loss = history.history['loss']\n",
        "val_loss = history.history['val_loss']\n",
        "accuracy = history.history['accuracy']\n",
        "val_accuracy = history.history['val_accuracy']\n",
        "\n",
        "epochs = range(1, len(loss) + 1)\n",
        "\n",
        "plt.plot(epochs, loss, 'b', label='Training loss')\n",
        "plt.plot(epochs, val_loss, 'r', label='Validation loss')\n",
        "plt.xlabel('Epochs')\n",
        "plt.ylabel('Loss')\n",
        "plt.legend()\n",
        "plt.show()\n",
        "\n",
        "plt.plot(epochs, accuracy, 'b', label='Training accuracy')\n",
        "plt.plot(epochs, val_accuracy, 'r', label='Validation accuracy')\n",
        "plt.xlabel('Epochs')\n",
        "plt.ylabel('Accuracy')\n",
        "plt.legend()\n",
        "plt.show()"
      ]
    },
    {
      "cell_type": "markdown",
      "source": [
        "#We add regularizations\n",
        "We will add early stopping to the reference model"
      ],
      "metadata": {
        "id": "HPDuEm4IspWh"
      }
    },
    {
      "cell_type": "code",
      "execution_count": null,
      "metadata": {
        "colab": {
          "base_uri": "https://localhost:8080/"
        },
        "id": "q_pHDIr62rk1",
        "outputId": "b4907fbc-2035-43c9-f94f-dc1b0873cb68"
      },
      "outputs": [
        {
          "output_type": "stream",
          "name": "stdout",
          "text": [
            "Epoch 1/20\n",
            "26/26 [==============================] - 2s 20ms/step - loss: 2.9830 - accuracy: 0.0852 - val_loss: 2.9574 - val_accuracy: 0.1008\n",
            "Epoch 2/20\n",
            "26/26 [==============================] - 0s 10ms/step - loss: 2.8921 - accuracy: 0.2422 - val_loss: 2.8459 - val_accuracy: 0.2469\n",
            "Epoch 3/20\n",
            "26/26 [==============================] - 0s 11ms/step - loss: 2.6947 - accuracy: 0.3971 - val_loss: 2.6416 - val_accuracy: 0.3500\n",
            "Epoch 4/20\n",
            "26/26 [==============================] - 0s 10ms/step - loss: 2.3786 - accuracy: 0.5545 - val_loss: 2.3498 - val_accuracy: 0.4672\n",
            "Epoch 5/20\n",
            "26/26 [==============================] - 0s 9ms/step - loss: 1.9825 - accuracy: 0.7031 - val_loss: 2.0335 - val_accuracy: 0.5734\n",
            "Epoch 6/20\n",
            "26/26 [==============================] - 0s 10ms/step - loss: 1.5929 - accuracy: 0.7895 - val_loss: 1.7597 - val_accuracy: 0.6523\n",
            "Epoch 7/20\n",
            "26/26 [==============================] - 0s 10ms/step - loss: 1.2629 - accuracy: 0.8316 - val_loss: 1.5492 - val_accuracy: 0.6695\n",
            "Epoch 8/20\n",
            "26/26 [==============================] - 0s 10ms/step - loss: 1.0051 - accuracy: 0.8658 - val_loss: 1.3994 - val_accuracy: 0.6812\n",
            "Epoch 9/20\n",
            "26/26 [==============================] - 0s 10ms/step - loss: 0.8108 - accuracy: 0.8865 - val_loss: 1.2935 - val_accuracy: 0.6820\n",
            "Epoch 10/20\n",
            "26/26 [==============================] - 0s 9ms/step - loss: 0.6633 - accuracy: 0.9066 - val_loss: 1.2234 - val_accuracy: 0.6891\n",
            "Epoch 11/20\n",
            "26/26 [==============================] - 0s 11ms/step - loss: 0.5506 - accuracy: 0.9244 - val_loss: 1.1731 - val_accuracy: 0.6922\n",
            "Epoch 12/20\n",
            "26/26 [==============================] - 0s 9ms/step - loss: 0.4627 - accuracy: 0.9367 - val_loss: 1.1412 - val_accuracy: 0.6828\n",
            "Epoch 13/20\n",
            "26/26 [==============================] - 0s 9ms/step - loss: 0.3945 - accuracy: 0.9432 - val_loss: 1.1174 - val_accuracy: 0.6891\n",
            "Epoch 14/20\n",
            "26/26 [==============================] - 0s 9ms/step - loss: 0.3411 - accuracy: 0.9514 - val_loss: 1.1026 - val_accuracy: 0.6906\n",
            "Epoch 15/20\n",
            "26/26 [==============================] - 0s 11ms/step - loss: 0.2983 - accuracy: 0.9555 - val_loss: 1.0956 - val_accuracy: 0.6875\n",
            "Epoch 16/20\n",
            "26/26 [==============================] - 0s 9ms/step - loss: 0.2641 - accuracy: 0.9582 - val_loss: 1.0902 - val_accuracy: 0.6875\n",
            "Epoch 17/20\n",
            "26/26 [==============================] - 0s 9ms/step - loss: 0.2372 - accuracy: 0.9617 - val_loss: 1.0917 - val_accuracy: 0.6883\n",
            "Epoch 18/20\n",
            "26/26 [==============================] - 0s 10ms/step - loss: 0.2149 - accuracy: 0.9646 - val_loss: 1.0920 - val_accuracy: 0.6859\n",
            "Epoch 19/20\n",
            "26/26 [==============================] - 0s 10ms/step - loss: 0.1968 - accuracy: 0.9664 - val_loss: 1.0924 - val_accuracy: 0.6844\n"
          ]
        }
      ],
      "source": [
        "# Tuning hyperparameters - number of epochs and number of neurons\n",
        "# change the width of layer - 1 and 2 from 32 to 16, number of epochs 30\n",
        "# application of regularization - early stopping\n",
        "# We build a neural network model\n",
        "model1 = Sequential()\n",
        "model1.add(Dense(32, activation='relu'))\n",
        "model1.add(Dense(32, activation='relu'))\n",
        "model1.add(Dense(20, activation='softmax'))\n",
        "\n",
        "# Compile the model\n",
        "model1.compile(optimizer='adam', loss='categorical_crossentropy', metrics=['accuracy'])\n",
        "\n",
        "# train the model\n",
        "history = model1.fit(xTrain.toarray(), yTrainHot, epochs=20, batch_size=200, validation_data=(xVal.toarray(), yValHot), callbacks=[EarlyStopping(patience=3)])"
      ]
    },
    {
      "cell_type": "code",
      "execution_count": null,
      "metadata": {
        "colab": {
          "base_uri": "https://localhost:8080/",
          "height": 883
        },
        "id": "mLuoVvXD3QCh",
        "outputId": "a3c8e1bd-bec1-479d-f75d-ee99f83916fe"
      },
      "outputs": [
        {
          "output_type": "display_data",
          "data": {
            "text/plain": [
              "<Figure size 640x480 with 1 Axes>"
            ],
            "image/png": "[encoded data removed]"
          },
          "metadata": {}
        },
        {
          "output_type": "display_data",
          "data": {
            "text/plain": [
              "<Figure size 640x480 with 1 Axes>"
            ],
            "image/png": "[encoded data removed]"
          },
          "metadata": {}
        }
      ],
      "source": [
        "# Learning history analysis\n",
        "loss = history.history['loss']\n",
        "val_loss = history.history['val_loss']\n",
        "accuracy = history.history['accuracy']\n",
        "val_accuracy = history.history['val_accuracy']\n",
        "\n",
        "epochs = range(1, len(loss) + 1)\n",
        "\n",
        "plt.plot(epochs, loss, 'b', label='Training loss')\n",
        "plt.plot(epochs, val_loss, 'r', label='Validation loss')\n",
        "plt.xlabel('Epochs')\n",
        "plt.ylabel('Loss')\n",
        "plt.legend()\n",
        "plt.show()\n",
        "\n",
        "plt.plot(epochs, accuracy, 'b', label='Training accuracy')\n",
        "plt.plot(epochs, val_accuracy, 'r', label='Validation accuracy')\n",
        "plt.xlabel('Epochs')\n",
        "plt.ylabel('Accuracy')\n",
        "plt.legend()\n",
        "plt.show()"
      ]
    },
    {
      "cell_type": "markdown",
      "source": [
        "Results: val_accuracy 0.6844, slightly better than the bias model"
      ],
      "metadata": {
        "id": "ZSxo1O3SxZA-"
      }
    },
    {
      "cell_type": "markdown",
      "source": [
        "#Tuning hyperparameters"
      ],
      "metadata": {
        "id": "GMoay_Ibv8Sw"
      }
    },
    {
      "cell_type": "code",
      "execution_count": null,
      "metadata": {
        "colab": {
          "base_uri": "https://localhost:8080/"
        },
        "id": "9-n2iXwl3YIZ",
        "outputId": "3dd73ef3-e0c0-4b82-f63a-7630f5671684"
      },
      "outputs": [
        {
          "output_type": "stream",
          "name": "stdout",
          "text": [
            "Epoch 1/20\n",
            "26/26 [==============================] - 2s 27ms/step - loss: 2.9758 - accuracy: 0.1428 - val_loss: 2.9362 - val_accuracy: 0.2523\n",
            "Epoch 2/20\n",
            "26/26 [==============================] - 1s 20ms/step - loss: 2.8355 - accuracy: 0.3232 - val_loss: 2.7795 - val_accuracy: 0.2977\n",
            "Epoch 3/20\n",
            "26/26 [==============================] - 1s 23ms/step - loss: 2.5653 - accuracy: 0.4061 - val_loss: 2.5307 - val_accuracy: 0.3523\n",
            "Epoch 4/20\n",
            "26/26 [==============================] - 1s 23ms/step - loss: 2.1810 - accuracy: 0.5201 - val_loss: 2.2070 - val_accuracy: 0.4523\n",
            "Epoch 5/20\n",
            "26/26 [==============================] - 1s 26ms/step - loss: 1.7289 - accuracy: 0.6906 - val_loss: 1.8587 - val_accuracy: 0.5859\n",
            "Epoch 6/20\n",
            "26/26 [==============================] - 1s 23ms/step - loss: 1.2896 - accuracy: 0.8299 - val_loss: 1.5636 - val_accuracy: 0.6570\n",
            "Epoch 7/20\n",
            "26/26 [==============================] - 0s 10ms/step - loss: 0.9441 - accuracy: 0.8822 - val_loss: 1.3722 - val_accuracy: 0.6750\n",
            "Epoch 8/20\n",
            "26/26 [==============================] - 0s 10ms/step - loss: 0.7037 - accuracy: 0.9064 - val_loss: 1.2580 - val_accuracy: 0.6789\n",
            "Epoch 9/20\n",
            "26/26 [==============================] - 0s 9ms/step - loss: 0.5419 - accuracy: 0.9275 - val_loss: 1.1888 - val_accuracy: 0.6797\n",
            "Epoch 10/20\n",
            "26/26 [==============================] - 0s 11ms/step - loss: 0.4285 - accuracy: 0.9406 - val_loss: 1.1452 - val_accuracy: 0.6875\n",
            "Epoch 11/20\n",
            "26/26 [==============================] - 0s 9ms/step - loss: 0.3486 - accuracy: 0.9484 - val_loss: 1.1255 - val_accuracy: 0.6867\n",
            "Epoch 12/20\n",
            "26/26 [==============================] - 0s 9ms/step - loss: 0.2910 - accuracy: 0.9553 - val_loss: 1.1139 - val_accuracy: 0.6898\n",
            "Epoch 13/20\n",
            "26/26 [==============================] - 0s 9ms/step - loss: 0.2485 - accuracy: 0.9607 - val_loss: 1.1070 - val_accuracy: 0.6875\n",
            "Epoch 14/20\n",
            "26/26 [==============================] - 0s 10ms/step - loss: 0.2176 - accuracy: 0.9623 - val_loss: 1.1078 - val_accuracy: 0.6875\n",
            "Epoch 15/20\n",
            "26/26 [==============================] - 0s 9ms/step - loss: 0.1946 - accuracy: 0.9643 - val_loss: 1.1031 - val_accuracy: 0.6867\n",
            "Epoch 16/20\n",
            "26/26 [==============================] - 0s 10ms/step - loss: 0.1763 - accuracy: 0.9670 - val_loss: 1.1118 - val_accuracy: 0.6867\n",
            "Epoch 17/20\n",
            "26/26 [==============================] - 0s 10ms/step - loss: 0.1626 - accuracy: 0.9664 - val_loss: 1.1154 - val_accuracy: 0.6836\n",
            "Epoch 18/20\n",
            "26/26 [==============================] - 0s 9ms/step - loss: 0.1517 - accuracy: 0.9672 - val_loss: 1.1193 - val_accuracy: 0.6836\n"
          ]
        }
      ],
      "source": [
        "# Tuning hyperparameters\n",
        "# change layer width - 1 from 32 to 64,\n",
        "# We build a neural network model\n",
        "model2 = Sequential()\n",
        "model2.add(Dense(64, activation='relu'))\n",
        "model2.add(Dense(32, activation='relu'))\n",
        "model2.add(Dense(20, activation='softmax'))\n",
        "\n",
        "# compile the model\n",
        "model2.compile(optimizer='adam', loss='categorical_crossentropy', metrics=['accuracy'])\n",
        "\n",
        "# train the model\n",
        "history = model2.fit(xTrain.toarray(), yTrainHot, epochs=20, batch_size=200, validation_data=(xVal.toarray(), yValHot), callbacks=[EarlyStopping(patience=3)])"
      ]
    },
    {
      "cell_type": "code",
      "execution_count": null,
      "metadata": {
        "colab": {
          "base_uri": "https://localhost:8080/",
          "height": 883
        },
        "id": "ZBxCUUni3z0A",
        "outputId": "e36b67f9-bc83-4179-e8e6-0e9f4baa9380"
      },
      "outputs": [
        {
          "output_type": "display_data",
          "data": {
            "text/plain": [
              "<Figure size 640x480 with 1 Axes>"
            ],
            "image/png": "[encoded data removed]"
          },
          "metadata": {}
        },
        {
          "output_type": "display_data",
          "data": {
            "text/plain": [
              "<Figure size 640x480 with 1 Axes>"
            ],
            "image/png": "[encoded data removed]"
          },
          "metadata": {}
        }
      ],
      "source": [
        "# Learning history analysis\n",
        "loss = history.history['loss']\n",
        "val_loss = history.history['val_loss']\n",
        "accuracy = history.history['accuracy']\n",
        "val_accuracy = history.history['val_accuracy']\n",
        "\n",
        "epochs = range(1, len(loss) + 1)\n",
        "\n",
        "plt.plot(epochs, loss, 'b', label='Training loss')\n",
        "plt.plot(epochs, val_loss, 'r', label='Validation loss')\n",
        "plt.xlabel('Epochs')\n",
        "plt.ylabel('Loss')\n",
        "plt.legend()\n",
        "plt.show()\n",
        "\n",
        "plt.plot(epochs, accuracy, 'b', label='Training accuracy')\n",
        "plt.plot(epochs, val_accuracy, 'r', label='Validation accuracy')\n",
        "plt.xlabel('Epochs')\n",
        "plt.ylabel('Accuracy')\n",
        "plt.legend()\n",
        "plt.show()"
      ]
    },
    {
      "cell_type": "code",
      "execution_count": null,
      "metadata": {
        "colab": {
          "base_uri": "https://localhost:8080/"
        },
        "id": "pUq3Sfn5pLc0",
        "outputId": "0c8b530b-b6b0-47ec-eabe-d0174f4310e0"
      },
      "outputs": [
        {
          "output_type": "stream",
          "name": "stdout",
          "text": [
            "Epoch 1/20\n",
            "26/26 [==============================] - 2s 21ms/step - loss: 2.9894 - accuracy: 0.1014 - val_loss: 2.9738 - val_accuracy: 0.1906\n",
            "Epoch 2/20\n",
            "26/26 [==============================] - 0s 10ms/step - loss: 2.9323 - accuracy: 0.2506 - val_loss: 2.8937 - val_accuracy: 0.2453\n",
            "Epoch 3/20\n",
            "26/26 [==============================] - 0s 10ms/step - loss: 2.7861 - accuracy: 0.3135 - val_loss: 2.7233 - val_accuracy: 0.2953\n",
            "Epoch 4/20\n",
            "26/26 [==============================] - 0s 10ms/step - loss: 2.5255 - accuracy: 0.4352 - val_loss: 2.4756 - val_accuracy: 0.3883\n",
            "Epoch 5/20\n",
            "26/26 [==============================] - 0s 11ms/step - loss: 2.1932 - accuracy: 0.5666 - val_loss: 2.2067 - val_accuracy: 0.4898\n",
            "Epoch 6/20\n",
            "26/26 [==============================] - 0s 11ms/step - loss: 1.8402 - accuracy: 0.6998 - val_loss: 1.9429 - val_accuracy: 0.5961\n",
            "Epoch 7/20\n",
            "26/26 [==============================] - 0s 9ms/step - loss: 1.5005 - accuracy: 0.7807 - val_loss: 1.7134 - val_accuracy: 0.6250\n",
            "Epoch 8/20\n",
            "26/26 [==============================] - 0s 9ms/step - loss: 1.2078 - accuracy: 0.8301 - val_loss: 1.5351 - val_accuracy: 0.6492\n",
            "Epoch 9/20\n",
            "26/26 [==============================] - 0s 10ms/step - loss: 0.9775 - accuracy: 0.8541 - val_loss: 1.4076 - val_accuracy: 0.6570\n",
            "Epoch 10/20\n",
            "26/26 [==============================] - 0s 9ms/step - loss: 0.8006 - accuracy: 0.8863 - val_loss: 1.3201 - val_accuracy: 0.6586\n",
            "Epoch 11/20\n",
            "26/26 [==============================] - 0s 9ms/step - loss: 0.6658 - accuracy: 0.9043 - val_loss: 1.2604 - val_accuracy: 0.6695\n",
            "Epoch 12/20\n",
            "26/26 [==============================] - 0s 10ms/step - loss: 0.5596 - accuracy: 0.9162 - val_loss: 1.2189 - val_accuracy: 0.6672\n",
            "Epoch 13/20\n",
            "26/26 [==============================] - 0s 10ms/step - loss: 0.4760 - accuracy: 0.9289 - val_loss: 1.1921 - val_accuracy: 0.6680\n",
            "Epoch 14/20\n",
            "26/26 [==============================] - 0s 11ms/step - loss: 0.4090 - accuracy: 0.9387 - val_loss: 1.1770 - val_accuracy: 0.6687\n",
            "Epoch 15/20\n",
            "26/26 [==============================] - 0s 12ms/step - loss: 0.3555 - accuracy: 0.9457 - val_loss: 1.1694 - val_accuracy: 0.6680\n",
            "Epoch 16/20\n",
            "26/26 [==============================] - 0s 12ms/step - loss: 0.3119 - accuracy: 0.9486 - val_loss: 1.1679 - val_accuracy: 0.6703\n",
            "Epoch 17/20\n",
            "26/26 [==============================] - 0s 11ms/step - loss: 0.2766 - accuracy: 0.9533 - val_loss: 1.1649 - val_accuracy: 0.6680\n",
            "Epoch 18/20\n",
            "26/26 [==============================] - 0s 12ms/step - loss: 0.2474 - accuracy: 0.9586 - val_loss: 1.1688 - val_accuracy: 0.6656\n",
            "Epoch 19/20\n",
            "26/26 [==============================] - 0s 12ms/step - loss: 0.2234 - accuracy: 0.9621 - val_loss: 1.1741 - val_accuracy: 0.6656\n",
            "Epoch 20/20\n",
            "26/26 [==============================] - 0s 12ms/step - loss: 0.2041 - accuracy: 0.9645 - val_loss: 1.1797 - val_accuracy: 0.6672\n"
          ]
        }
      ],
      "source": [
        "# Hyperparameter tuning\n",
        "# build a neural network model\n",
        "model3 = Sequential()\n",
        "model3.add(Dense(16,activation = 'relu'))\n",
        "model3.add(Dense(64,activation = 'relu'))\n",
        "model3.add(Dense(20, activation='softmax'))\n",
        "\n",
        "# compile the model\n",
        "model3.compile(optimizer='adam', loss='categorical_crossentropy', metrics=['accuracy'])\n",
        "\n",
        "# train the model\n",
        "history = model3.fit(xTrain.toarray(), yTrainHot, epochs=20, batch_size=200, validation_data=(xVal.toarray(), yValHot), callbacks=[EarlyStopping(patience=3)])"
      ]
    },
    {
      "cell_type": "code",
      "source": [
        "# Learning history analysis\n",
        "loss = history.history['loss']\n",
        "val_loss = history.history['val_loss']\n",
        "accuracy = history.history['accuracy']\n",
        "val_accuracy = history.history['val_accuracy']\n",
        "\n",
        "epochs = range(1, len(loss) + 1)\n",
        "\n",
        "plt.plot(epochs, loss, 'b', label='Training loss')\n",
        "plt.plot(epochs, val_loss, 'r', label='Validation loss')\n",
        "plt.xlabel('Epochs')\n",
        "plt.ylabel('Loss')\n",
        "plt.legend()\n",
        "plt.show()\n",
        "\n",
        "plt.plot(epochs, accuracy, 'b', label='Training accuracy')\n",
        "plt.plot(epochs, val_accuracy, 'r', label='Validation accuracy')\n",
        "plt.xlabel('Epochs')\n",
        "plt.ylabel('Accuracy')\n",
        "plt.legend()\n",
        "plt.show()"
      ],
      "metadata": {
        "colab": {
          "base_uri": "https://localhost:8080/",
          "height": 884
        },
        "id": "yj3gj6dmxFDt",
        "outputId": "0eca0d05-2d7e-4aca-c007-15c5198aedff"
      },
      "execution_count": null,
      "outputs": [
        {
          "output_type": "display_data",
          "data": {
            "text/plain": [
              "<Figure size 640x480 with 1 Axes>"
            ],
            "image/png": "[encoded data removed]"
          },
          "metadata": {}
        },
        {
          "output_type": "display_data",
          "data": {
            "text/plain": [
              "<Figure size 640x480 with 1 Axes>"
            ],
            "image/png": "[encoded data removed]"
          },
          "metadata": {}
        }
      ]
    },
    {
      "cell_type": "code",
      "source": [
        "# Tuning hyperparameters\n",
        "# We build a neural network model\n",
        "model4 = Sequential()\n",
        "model4.add(Dense(32,activation = 'relu'))\n",
        "model4.add(Dense(64,activation = 'relu'))\n",
        "model4.add(Dense(20, activation='softmax'))\n",
        "\n",
        "# compile the model\n",
        "model4.compile(optimizer='adam', loss='categorical_crossentropy', metrics=['accuracy'])\n",
        "\n",
        "# Train the model\n",
        "history = model4.fit(xTrain.toarray(), yTrainHot, epochs=10, batch_size=200, validation_data=(xVal.toarray(), yValHot), callbacks=[EarlyStopping(patience=3)])"
      ],
      "metadata": {
        "colab": {
          "base_uri": "https://localhost:8080/"
        },
        "id": "tghs3sIkx5IK",
        "outputId": "3825efe5-3ad8-4d40-aa9c-f82140419e85"
      },
      "execution_count": null,
      "outputs": [
        {
          "output_type": "stream",
          "name": "stdout",
          "text": [
            "Epoch 1/10\n",
            "26/26 [==============================] - 2s 20ms/step - loss: 2.9830 - accuracy: 0.1484 - val_loss: 2.9536 - val_accuracy: 0.2461\n",
            "Epoch 2/10\n",
            "26/26 [==============================] - 0s 9ms/step - loss: 2.8739 - accuracy: 0.3721 - val_loss: 2.8047 - val_accuracy: 0.3992\n",
            "Epoch 3/10\n",
            "26/26 [==============================] - 0s 10ms/step - loss: 2.6019 - accuracy: 0.5639 - val_loss: 2.5045 - val_accuracy: 0.4875\n",
            "Epoch 4/10\n",
            "26/26 [==============================] - 0s 10ms/step - loss: 2.1408 - accuracy: 0.7086 - val_loss: 2.0780 - val_accuracy: 0.6164\n",
            "Epoch 5/10\n",
            "26/26 [==============================] - 0s 9ms/step - loss: 1.6091 - accuracy: 0.8102 - val_loss: 1.6891 - val_accuracy: 0.6570\n",
            "Epoch 6/10\n",
            "26/26 [==============================] - 0s 10ms/step - loss: 1.1741 - accuracy: 0.8521 - val_loss: 1.4268 - val_accuracy: 0.6758\n",
            "Epoch 7/10\n",
            "26/26 [==============================] - 0s 12ms/step - loss: 0.8726 - accuracy: 0.8779 - val_loss: 1.2709 - val_accuracy: 0.6781\n",
            "Epoch 8/10\n",
            "26/26 [==============================] - 0s 13ms/step - loss: 0.6673 - accuracy: 0.9033 - val_loss: 1.1759 - val_accuracy: 0.6797\n",
            "Epoch 9/10\n",
            "26/26 [==============================] - 0s 15ms/step - loss: 0.5250 - accuracy: 0.9242 - val_loss: 1.1225 - val_accuracy: 0.6844\n",
            "Epoch 10/10\n",
            "26/26 [==============================] - 0s 14ms/step - loss: 0.4230 - accuracy: 0.9373 - val_loss: 1.0895 - val_accuracy: 0.6820\n"
          ]
        }
      ]
    },
    {
      "cell_type": "code",
      "source": [
        "# Learning history analysis\n",
        "loss = history.history['loss']\n",
        "val_loss = history.history['val_loss']\n",
        "accuracy = history.history['accuracy']\n",
        "val_accuracy = history.history['val_accuracy']\n",
        "\n",
        "epochs = range(1, len(loss) + 1)\n",
        "\n",
        "plt.plot(epochs, loss, 'b', label='Training loss')\n",
        "plt.plot(epochs, val_loss, 'r', label='Validation loss')\n",
        "plt.xlabel('Epochs')\n",
        "plt.ylabel('Loss')\n",
        "plt.legend()\n",
        "plt.show()\n",
        "\n",
        "plt.plot(epochs, accuracy, 'b', label='Training accuracy')\n",
        "plt.plot(epochs, val_accuracy, 'r', label='Validation accuracy')\n",
        "plt.xlabel('Epochs')\n",
        "plt.ylabel('Accuracy')\n",
        "plt.legend()\n",
        "plt.show()"
      ],
      "metadata": {
        "colab": {
          "base_uri": "https://localhost:8080/",
          "height": 881
        },
        "id": "jEIviJyTyY2M",
        "outputId": "171282f0-0285-457f-a2ed-e08856668f5e"
      },
      "execution_count": null,
      "outputs": [
        {
          "output_type": "display_data",
          "data": {
            "text/plain": [
              "<Figure size 640x480 with 1 Axes>"
            ],
            "image/png": "[encoded data removed]"
          },
          "metadata": {}
        },
        {
          "output_type": "display_data",
          "data": {
            "text/plain": [
              "<Figure size 640x480 with 1 Axes>"
            ],
            "image/png": "[encoded data removed]"
          },
          "metadata": {}
        }
      ]
    },
    {
      "cell_type": "code",
      "source": [
        "# Tuning hyperparameters\n",
        "# We build a neural network model\n",
        "model5 = Sequential()\n",
        "model5.add(Dense(16,activation = 'relu'))\n",
        "model5.add(Dense(16,activation = 'relu'))\n",
        "model5.add(Dense(20, activation='softmax'))\n",
        "\n",
        "# compile the model\n",
        "model5.compile(optimizer='adam', loss='categorical_crossentropy', metrics=['accuracy'])\n",
        "\n",
        "# Train the model\n",
        "history = model5.fit(xTrain.toarray(), yTrainHot, epochs=10, batch_size=200, validation_data=(xVal.toarray(), yValHot), callbacks=[EarlyStopping(patience=3)])"
      ],
      "metadata": {
        "colab": {
          "base_uri": "https://localhost:8080/"
        },
        "id": "T695lPPUylGX",
        "outputId": "f23707d3-3886-4067-de1a-991d64521cbf"
      },
      "execution_count": null,
      "outputs": [
        {
          "output_type": "stream",
          "name": "stdout",
          "text": [
            "Epoch 1/10\n",
            "26/26 [==============================] - 2s 20ms/step - loss: 2.9884 - accuracy: 0.0721 - val_loss: 2.9737 - val_accuracy: 0.0812\n",
            "Epoch 2/10\n",
            "26/26 [==============================] - 0s 12ms/step - loss: 2.9406 - accuracy: 0.1068 - val_loss: 2.9162 - val_accuracy: 0.1375\n",
            "Epoch 3/10\n",
            "26/26 [==============================] - 0s 15ms/step - loss: 2.8450 - accuracy: 0.2010 - val_loss: 2.8177 - val_accuracy: 0.2164\n",
            "Epoch 4/10\n",
            "26/26 [==============================] - 0s 13ms/step - loss: 2.6981 - accuracy: 0.2965 - val_loss: 2.6810 - val_accuracy: 0.2703\n",
            "Epoch 5/10\n",
            "26/26 [==============================] - 0s 13ms/step - loss: 2.5036 - accuracy: 0.4082 - val_loss: 2.5132 - val_accuracy: 0.3328\n",
            "Epoch 6/10\n",
            "26/26 [==============================] - 0s 14ms/step - loss: 2.2743 - accuracy: 0.4838 - val_loss: 2.3212 - val_accuracy: 0.3898\n",
            "Epoch 7/10\n",
            "26/26 [==============================] - 0s 13ms/step - loss: 2.0272 - accuracy: 0.5623 - val_loss: 2.1293 - val_accuracy: 0.4617\n",
            "Epoch 8/10\n",
            "26/26 [==============================] - 0s 13ms/step - loss: 1.7837 - accuracy: 0.6553 - val_loss: 1.9508 - val_accuracy: 0.5250\n",
            "Epoch 9/10\n",
            "26/26 [==============================] - 0s 13ms/step - loss: 1.5560 - accuracy: 0.7441 - val_loss: 1.7900 - val_accuracy: 0.5750\n",
            "Epoch 10/10\n",
            "26/26 [==============================] - 0s 10ms/step - loss: 1.3510 - accuracy: 0.7984 - val_loss: 1.6552 - val_accuracy: 0.6094\n"
          ]
        }
      ]
    },
    {
      "cell_type": "code",
      "source": [
        "# Learning history analysis\n",
        "loss = history.history['loss']\n",
        "val_loss = history.history['val_loss']\n",
        "accuracy = history.history['accuracy']\n",
        "val_accuracy = history.history['val_accuracy']\n",
        "\n",
        "epochs = range(1, len(loss) + 1)\n",
        "\n",
        "plt.plot(epochs, loss, 'b', label='Training loss')\n",
        "plt.plot(epochs, val_loss, 'r', label='Validation loss')\n",
        "plt.xlabel('Epochs')\n",
        "plt.ylabel('Loss')\n",
        "plt.legend()\n",
        "plt.show()\n",
        "\n",
        "plt.plot(epochs, accuracy, 'b', label='Training accuracy')\n",
        "plt.plot(epochs, val_accuracy, 'r', label='Validation accuracy')\n",
        "plt.xlabel('Epochs')\n",
        "plt.ylabel('Accuracy')\n",
        "plt.legend()\n",
        "plt.show()"
      ],
      "metadata": {
        "colab": {
          "base_uri": "https://localhost:8080/",
          "height": 881
        },
        "id": "maYOJTTfyj9g",
        "outputId": "a2ab9d86-d457-42f3-bf2b-a8d46315d6a9"
      },
      "execution_count": null,
      "outputs": [
        {
          "output_type": "display_data",
          "data": {
            "text/plain": [
              "<Figure size 640x480 with 1 Axes>"
            ],
            "image/png": "[encoded data removed]"
          },
          "metadata": {}
        },
        {
          "output_type": "display_data",
          "data": {
            "text/plain": [
              "<Figure size 640x480 with 1 Axes>"
            ],
            "image/png": "[encoded data removed]"
          },
          "metadata": {}
        }
      ]
    },
    {
      "cell_type": "markdown",
      "source": [
        "#Logistic regression\n",
        "Comparison of the network with a classic classifier - logistic regression."
      ],
      "metadata": {
        "id": "5Kkr5evAyyj-"
      }
    },
    {
      "cell_type": "code",
      "source": [
        "import numpy as np\n",
        "from sklearn.linear_model import LogisticRegression\n",
        "from sklearn.metrics import accuracy_score\n",
        "\n",
        "lgr = LogisticRegression()\n",
        "\n",
        "y_train_labels = np.argmax(yTrainHot, axis=1)\n",
        "y_test_labels = np.argmax(yTestHot, axis=1)\n",
        "\n",
        "lgr.fit(xTrain.toarray(), y_train_labels)\n",
        "predicted_labels = lgr.predict(xTest.toarray())\n",
        "\n",
        "accuracy_of_model = accuracy_score(y_test_labels, predicted_labels)\n",
        "\n",
        "print(\"Accuracy is\", accuracy_of_model)"
      ],
      "metadata": {
        "colab": {
          "base_uri": "https://localhost:8080/"
        },
        "id": "dITS2QmfzAHw",
        "outputId": "21147226-2a54-4ce7-9951-c396cc66e483"
      },
      "execution_count": null,
      "outputs": [
        {
          "output_type": "stream",
          "name": "stdout",
          "text": [
            "Accuracy is 0.686875\n"
          ]
        }
      ]
    },
    {
      "cell_type": "markdown",
      "source": [
        "Conclusions: accurancy very similar, even slightly better than neural networks"
      ],
      "metadata": {
        "id": "MLIhz3hPziWj"
      }
    },
    {
      "cell_type": "markdown",
      "source": [
        "# SUMMARY"
      ],
      "metadata": {
        "id": "CV4WLN2JzZxl"
      }
    },
    {
      "cell_type": "markdown",
      "source": [
        "During the experiments performed, it was not possible to improve the accuracy of the reference model. Additionally, it turned out that the classic logistic regression classifier had a better accuracy of 0.686875 than the reference model, which had an accuracy of 0.6844. Below is an evaluation of the best neural network model on test data, its accuracy and loss."
      ],
      "metadata": {
        "id": "i6rFgjqH0NHq"
      }
    },
    {
      "cell_type": "code",
      "execution_count": null,
      "metadata": {
        "colab": {
          "base_uri": "https://localhost:8080/"
        },
        "id": "-rQ__TTaj55x",
        "outputId": "fa1da579-a418-4702-a439-a4258fcb782f"
      },
      "outputs": [
        {
          "output_type": "stream",
          "name": "stdout",
          "text": [
            "50/50 [==============================] - 0s 3ms/step - loss: 1.1470 - accuracy: 0.6769\n",
            "Test loss: 1.146955132484436\n",
            "Test accuracy: 0.6768749952316284\n"
          ]
        }
      ],
      "source": [
        "# Evaluate the best model on test data\n",
        "scores = model1.evaluate(xTest.toarray(), yTestHot, verbose=0)\n",
        "test_loss, test_accuracy = model1.evaluate(xTest.toarray(), yTestHot)\n",
        "print('Test loss:', test_loss)\n",
        "print('Test accuracy:', test_accuracy)"
      ]
    },
    {
      "cell_type": "code",
      "execution_count": null,
      "metadata": {
        "colab": {
          "base_uri": "https://localhost:8080/"
        },
        "id": "DvKvqQeEOud0",
        "outputId": "1485dc03-d783-4b45-88d0-b74df79b62de"
      },
      "outputs": [
        {
          "output_type": "stream",
          "name": "stdout",
          "text": [
            "50/50 [==============================] - 0s 2ms/step\n",
            "                          precision    recall  f1-score   support\n",
            "\n",
            "             alt.atheism       0.45      0.54      0.49        67\n",
            "           comp.graphics       0.53      0.55      0.54        71\n",
            " comp.os.ms-windows.misc       0.62      0.44      0.51        89\n",
            "comp.sys.ibm.pc.hardware       0.55      0.55      0.55        84\n",
            "   comp.sys.mac.hardware       0.62      0.60      0.61        65\n",
            "          comp.windows.x       0.78      0.80      0.79        83\n",
            "            misc.forsale       0.73      0.67      0.70        92\n",
            "               rec.autos       0.79      0.61      0.69       100\n",
            "         rec.motorcycles       0.49      0.75      0.59        96\n",
            "      rec.sport.baseball       0.72      0.93      0.81        71\n",
            "        rec.sport.hockey       0.94      0.84      0.88        91\n",
            "               sci.crypt       0.91      0.78      0.84        88\n",
            "         sci.electronics       0.61      0.70      0.65        86\n",
            "                 sci.med       0.83      0.75      0.79        85\n",
            "               sci.space       0.69      0.78      0.73        83\n",
            "  soc.religion.christian       0.74      0.78      0.76        79\n",
            "      talk.politics.guns       0.69      0.76      0.72        70\n",
            "   talk.politics.mideast       0.91      0.78      0.84        89\n",
            "      talk.politics.misc       0.49      0.57      0.53        54\n",
            "      talk.religion.misc       0.48      0.19      0.27        57\n",
            "\n",
            "                accuracy                           0.68      1600\n",
            "               macro avg       0.68      0.67      0.66      1600\n",
            "            weighted avg       0.69      0.68      0.68      1600\n",
            "\n"
          ]
        }
      ],
      "source": [
        "from sklearn.metrics import classification_report\n",
        "\n",
        "# Predicting labels on test data\n",
        "y_pred = model3.predict(xTest.toarray())\n",
        "\n",
        "# Converting predictions into labels\n",
        "y_pred_labels = np.argmax(y_pred, axis = 1)\n",
        "\n",
        "# Converting real labels from one-hot to one-dimensional format\n",
        "y_true_labels = np.argmax(yTestHot, axis=1)\n",
        "\n",
        "# Create a classification report\n",
        "classification_report = classification_report(y_true_labels, y_pred_labels, target_names = mydata['target_names'])\n",
        "\n",
        "print(classification_report)"
      ]
    }
  ],
  "metadata": {
    "accelerator": "GPU",
    "colab": {
      "provenance": []
    },
    "kernelspec": {
      "display_name": "Python 3",
      "name": "python3"
    },
    "language_info": {
      "name": "python"
    }
  },
  "nbformat": 4,
  "nbformat_minor": 0
}